{
  "nbformat": 4,
  "nbformat_minor": 0,
  "metadata": {
    "colab": {
      "name": "GHF.ipynb",
      "provenance": [],
      "collapsed_sections": [],
      "toc_visible": true,
      "include_colab_link": true
    },
    "kernelspec": {
      "name": "python3",
      "display_name": "Python 3"
    },
    "language_info": {
      "name": "python"
    },
    "accelerator": "GPU"
  },
  "cells": [
    {
      "cell_type": "markdown",
      "metadata": {
        "id": "view-in-github",
        "colab_type": "text"
      },
      "source": [
        "<a href=\"https://colab.research.google.com/github/AKSHAY-058/AKSHAY-RAJ/blob/master/GHF.ipynb\" target=\"_parent\"><img src=\"https://colab.research.google.com/assets/colab-badge.svg\" alt=\"Open In Colab\"/></a>"
      ]
    },
    {
      "cell_type": "markdown",
      "metadata": {
        "id": "JRZe8znXSf3s"
      },
      "source": [
        "## Importing Python Libraries"
      ]
    },
    {
      "cell_type": "code",
      "metadata": {
        "colab": {
          "base_uri": "https://localhost:8080/"
        },
        "id": "j_O09YeYS2h2",
        "outputId": "a4ed0e12-4230-49af-bbab-db29fed940fb"
      },
      "source": [
        "from google.colab import drive\n",
        "drive.mount('/content/drive')"
      ],
      "execution_count": null,
      "outputs": [
        {
          "output_type": "stream",
          "text": [
            "Mounted at /content/drive\n"
          ],
          "name": "stdout"
        }
      ]
    },
    {
      "cell_type": "code",
      "metadata": {
        "id": "jMYAbvyD04BN"
      },
      "source": [
        "import pandas as pd\n",
        "import numpy as np\n",
        "import matplotlib.pyplot as plt\n",
        "import seaborn as sns\n",
        "import pylab as plot\n",
        "import xgboost as xgb\n",
        "import graphviz\n",
        "from sklearn import preprocessing,model_selection\n",
        "import itertools\n",
        "\n",
        "import warnings\n",
        "warnings.filterwarnings('ignore')\n",
        "warnings.filterwarnings('ignore', category=DeprecationWarning)\n",
        "\n",
        "import tensorflow as tf\n",
        "from keras.models import Sequential\n",
        "from keras.layers import Dense, Dropout\n",
        "from tensorflow.keras import regularizers"
      ],
      "execution_count": null,
      "outputs": []
    },
    {
      "cell_type": "code",
      "metadata": {
        "id": "a_txsVMl1KR9"
      },
      "source": [
        "train_data = pd.read_csv(\"/content/drive/MyDrive/Colab Notebooks/Training Data.csv\")\n",
        "test_data = pd.read_csv(\"/content/drive/MyDrive/Colab Notebooks/Test Data.csv\")"
      ],
      "execution_count": null,
      "outputs": []
    },
    {
      "cell_type": "code",
      "metadata": {
        "colab": {
          "base_uri": "https://localhost:8080/",
          "height": 204
        },
        "id": "imfV2u6d1knR",
        "outputId": "0f1a88be-9118-4090-ceb8-4a7b563c62fb"
      },
      "source": [
        "train_data.head()"
      ],
      "execution_count": null,
      "outputs": [
        {
          "output_type": "execute_result",
          "data": {
            "text/html": [
              "<div>\n",
              "<style scoped>\n",
              "    .dataframe tbody tr th:only-of-type {\n",
              "        vertical-align: middle;\n",
              "    }\n",
              "\n",
              "    .dataframe tbody tr th {\n",
              "        vertical-align: top;\n",
              "    }\n",
              "\n",
              "    .dataframe thead th {\n",
              "        text-align: right;\n",
              "    }\n",
              "</style>\n",
              "<table border=\"1\" class=\"dataframe\">\n",
              "  <thead>\n",
              "    <tr style=\"text-align: right;\">\n",
              "      <th></th>\n",
              "      <th>Id</th>\n",
              "      <th>income</th>\n",
              "      <th>age</th>\n",
              "      <th>experience</th>\n",
              "      <th>married</th>\n",
              "      <th>house_ownership</th>\n",
              "      <th>car_ownership</th>\n",
              "      <th>profession</th>\n",
              "      <th>city</th>\n",
              "      <th>state</th>\n",
              "      <th>current_job_years</th>\n",
              "      <th>current_house_years</th>\n",
              "      <th>risk_flag</th>\n",
              "    </tr>\n",
              "  </thead>\n",
              "  <tbody>\n",
              "    <tr>\n",
              "      <th>0</th>\n",
              "      <td>1</td>\n",
              "      <td>1303835</td>\n",
              "      <td>23</td>\n",
              "      <td>3</td>\n",
              "      <td>single</td>\n",
              "      <td>rented</td>\n",
              "      <td>no</td>\n",
              "      <td>Mechanical_engineer</td>\n",
              "      <td>Rewa</td>\n",
              "      <td>Madhya_Pradesh</td>\n",
              "      <td>3</td>\n",
              "      <td>13</td>\n",
              "      <td>0</td>\n",
              "    </tr>\n",
              "    <tr>\n",
              "      <th>1</th>\n",
              "      <td>2</td>\n",
              "      <td>7574516</td>\n",
              "      <td>40</td>\n",
              "      <td>10</td>\n",
              "      <td>single</td>\n",
              "      <td>rented</td>\n",
              "      <td>no</td>\n",
              "      <td>Software_Developer</td>\n",
              "      <td>Parbhani</td>\n",
              "      <td>Maharashtra</td>\n",
              "      <td>9</td>\n",
              "      <td>13</td>\n",
              "      <td>0</td>\n",
              "    </tr>\n",
              "    <tr>\n",
              "      <th>2</th>\n",
              "      <td>3</td>\n",
              "      <td>3991815</td>\n",
              "      <td>66</td>\n",
              "      <td>4</td>\n",
              "      <td>married</td>\n",
              "      <td>rented</td>\n",
              "      <td>no</td>\n",
              "      <td>Technical_writer</td>\n",
              "      <td>Alappuzha</td>\n",
              "      <td>Kerala</td>\n",
              "      <td>4</td>\n",
              "      <td>10</td>\n",
              "      <td>0</td>\n",
              "    </tr>\n",
              "    <tr>\n",
              "      <th>3</th>\n",
              "      <td>4</td>\n",
              "      <td>6256451</td>\n",
              "      <td>41</td>\n",
              "      <td>2</td>\n",
              "      <td>single</td>\n",
              "      <td>rented</td>\n",
              "      <td>yes</td>\n",
              "      <td>Software_Developer</td>\n",
              "      <td>Bhubaneswar</td>\n",
              "      <td>Odisha</td>\n",
              "      <td>2</td>\n",
              "      <td>12</td>\n",
              "      <td>1</td>\n",
              "    </tr>\n",
              "    <tr>\n",
              "      <th>4</th>\n",
              "      <td>5</td>\n",
              "      <td>5768871</td>\n",
              "      <td>47</td>\n",
              "      <td>11</td>\n",
              "      <td>single</td>\n",
              "      <td>rented</td>\n",
              "      <td>no</td>\n",
              "      <td>Civil_servant</td>\n",
              "      <td>Tiruchirappalli[10]</td>\n",
              "      <td>Tamil_Nadu</td>\n",
              "      <td>3</td>\n",
              "      <td>14</td>\n",
              "      <td>1</td>\n",
              "    </tr>\n",
              "  </tbody>\n",
              "</table>\n",
              "</div>"
            ],
            "text/plain": [
              "   Id   income  age  ...  current_job_years current_house_years risk_flag\n",
              "0   1  1303835   23  ...                  3                  13         0\n",
              "1   2  7574516   40  ...                  9                  13         0\n",
              "2   3  3991815   66  ...                  4                  10         0\n",
              "3   4  6256451   41  ...                  2                  12         1\n",
              "4   5  5768871   47  ...                  3                  14         1\n",
              "\n",
              "[5 rows x 13 columns]"
            ]
          },
          "metadata": {
            "tags": []
          },
          "execution_count": 4
        }
      ]
    },
    {
      "cell_type": "code",
      "metadata": {
        "colab": {
          "base_uri": "https://localhost:8080/"
        },
        "id": "KbrnMNIn13gy",
        "outputId": "5c353b3a-8aee-4725-8992-8bb931661e89"
      },
      "source": [
        "train_data.shape"
      ],
      "execution_count": null,
      "outputs": [
        {
          "output_type": "execute_result",
          "data": {
            "text/plain": [
              "(252000, 13)"
            ]
          },
          "metadata": {
            "tags": []
          },
          "execution_count": 5
        }
      ]
    },
    {
      "cell_type": "code",
      "metadata": {
        "colab": {
          "base_uri": "https://localhost:8080/",
          "height": 204
        },
        "id": "Wcd-N6y61phj",
        "outputId": "5f12f6e7-70f9-4d7e-d0f4-3271b58a4cee"
      },
      "source": [
        "test_data.head()"
      ],
      "execution_count": null,
      "outputs": [
        {
          "output_type": "execute_result",
          "data": {
            "text/html": [
              "<div>\n",
              "<style scoped>\n",
              "    .dataframe tbody tr th:only-of-type {\n",
              "        vertical-align: middle;\n",
              "    }\n",
              "\n",
              "    .dataframe tbody tr th {\n",
              "        vertical-align: top;\n",
              "    }\n",
              "\n",
              "    .dataframe thead th {\n",
              "        text-align: right;\n",
              "    }\n",
              "</style>\n",
              "<table border=\"1\" class=\"dataframe\">\n",
              "  <thead>\n",
              "    <tr style=\"text-align: right;\">\n",
              "      <th></th>\n",
              "      <th>id</th>\n",
              "      <th>income</th>\n",
              "      <th>age</th>\n",
              "      <th>experience</th>\n",
              "      <th>married</th>\n",
              "      <th>house_ownership</th>\n",
              "      <th>car_ownership</th>\n",
              "      <th>profession</th>\n",
              "      <th>city</th>\n",
              "      <th>state</th>\n",
              "      <th>current_job_years</th>\n",
              "      <th>current_house_years</th>\n",
              "    </tr>\n",
              "  </thead>\n",
              "  <tbody>\n",
              "    <tr>\n",
              "      <th>0</th>\n",
              "      <td>1</td>\n",
              "      <td>7393090</td>\n",
              "      <td>59</td>\n",
              "      <td>19</td>\n",
              "      <td>single</td>\n",
              "      <td>rented</td>\n",
              "      <td>no</td>\n",
              "      <td>Geologist</td>\n",
              "      <td>Malda</td>\n",
              "      <td>West Bengal</td>\n",
              "      <td>4</td>\n",
              "      <td>13</td>\n",
              "    </tr>\n",
              "    <tr>\n",
              "      <th>1</th>\n",
              "      <td>2</td>\n",
              "      <td>1215004</td>\n",
              "      <td>25</td>\n",
              "      <td>5</td>\n",
              "      <td>single</td>\n",
              "      <td>rented</td>\n",
              "      <td>no</td>\n",
              "      <td>Firefighter</td>\n",
              "      <td>Jalna</td>\n",
              "      <td>Maharashtra</td>\n",
              "      <td>5</td>\n",
              "      <td>10</td>\n",
              "    </tr>\n",
              "    <tr>\n",
              "      <th>2</th>\n",
              "      <td>3</td>\n",
              "      <td>8901342</td>\n",
              "      <td>50</td>\n",
              "      <td>12</td>\n",
              "      <td>single</td>\n",
              "      <td>rented</td>\n",
              "      <td>no</td>\n",
              "      <td>Lawyer</td>\n",
              "      <td>Thane</td>\n",
              "      <td>Maharashtra</td>\n",
              "      <td>9</td>\n",
              "      <td>14</td>\n",
              "    </tr>\n",
              "    <tr>\n",
              "      <th>3</th>\n",
              "      <td>4</td>\n",
              "      <td>1944421</td>\n",
              "      <td>49</td>\n",
              "      <td>9</td>\n",
              "      <td>married</td>\n",
              "      <td>rented</td>\n",
              "      <td>yes</td>\n",
              "      <td>Analyst</td>\n",
              "      <td>Latur</td>\n",
              "      <td>Maharashtra</td>\n",
              "      <td>3</td>\n",
              "      <td>12</td>\n",
              "    </tr>\n",
              "    <tr>\n",
              "      <th>4</th>\n",
              "      <td>5</td>\n",
              "      <td>13429</td>\n",
              "      <td>25</td>\n",
              "      <td>18</td>\n",
              "      <td>single</td>\n",
              "      <td>rented</td>\n",
              "      <td>yes</td>\n",
              "      <td>Comedian</td>\n",
              "      <td>Berhampore</td>\n",
              "      <td>West Bengal</td>\n",
              "      <td>13</td>\n",
              "      <td>11</td>\n",
              "    </tr>\n",
              "  </tbody>\n",
              "</table>\n",
              "</div>"
            ],
            "text/plain": [
              "   id   income  age  ...        state current_job_years current_house_years\n",
              "0   1  7393090   59  ...  West Bengal                 4                  13\n",
              "1   2  1215004   25  ...  Maharashtra                 5                  10\n",
              "2   3  8901342   50  ...  Maharashtra                 9                  14\n",
              "3   4  1944421   49  ...  Maharashtra                 3                  12\n",
              "4   5    13429   25  ...  West Bengal                13                  11\n",
              "\n",
              "[5 rows x 12 columns]"
            ]
          },
          "metadata": {
            "tags": []
          },
          "execution_count": 6
        }
      ]
    },
    {
      "cell_type": "code",
      "metadata": {
        "colab": {
          "base_uri": "https://localhost:8080/"
        },
        "id": "EI97jFXw1-m-",
        "outputId": "b82eed83-5625-4945-806e-15059c1b9b58"
      },
      "source": [
        "test_data.shape"
      ],
      "execution_count": null,
      "outputs": [
        {
          "output_type": "execute_result",
          "data": {
            "text/plain": [
              "(28000, 12)"
            ]
          },
          "metadata": {
            "tags": []
          },
          "execution_count": 7
        }
      ]
    },
    {
      "cell_type": "code",
      "metadata": {
        "id": "J8FP94XdUOHc"
      },
      "source": [
        "#shuffling the data\n",
        "from sklearn.utils import shuffle\n",
        "train_data = shuffle(train_data, random_state=0)"
      ],
      "execution_count": null,
      "outputs": []
    },
    {
      "cell_type": "markdown",
      "metadata": {
        "id": "bUI6M_DlUVPK"
      },
      "source": [
        "## EDA and Feature Engineering"
      ]
    },
    {
      "cell_type": "code",
      "metadata": {
        "colab": {
          "base_uri": "https://localhost:8080/"
        },
        "id": "-4X4YidcUZwb",
        "outputId": "a8c36ed7-6883-4eeb-b918-285f4c3196f4"
      },
      "source": [
        "#Checking for null values\n",
        "print(train_data.isnull().any().sum())\n",
        "print(test_data.isnull().any().sum())"
      ],
      "execution_count": null,
      "outputs": [
        {
          "output_type": "stream",
          "text": [
            "0\n",
            "0\n"
          ],
          "name": "stdout"
        }
      ]
    },
    {
      "cell_type": "code",
      "metadata": {
        "colab": {
          "base_uri": "https://localhost:8080/"
        },
        "id": "hLB2JmUKUgIx",
        "outputId": "d454c750-7971-44ef-9a73-e43fb8750b94"
      },
      "source": [
        "print(train_data['risk_flag'].value_counts())"
      ],
      "execution_count": null,
      "outputs": [
        {
          "output_type": "stream",
          "text": [
            "0    221004\n",
            "1     30996\n",
            "Name: risk_flag, dtype: int64\n"
          ],
          "name": "stdout"
        }
      ]
    },
    {
      "cell_type": "code",
      "metadata": {
        "colab": {
          "base_uri": "https://localhost:8080/"
        },
        "id": "JPHkBh-DUk79",
        "outputId": "9c85f070-abd3-43a4-ad78-bde23f8fde6d"
      },
      "source": [
        "#Unique Values\n",
        "print(train_data.nunique())\n",
        "print('*'*50)\n",
        "print(test_data.nunique())"
      ],
      "execution_count": null,
      "outputs": [
        {
          "output_type": "stream",
          "text": [
            "Id                     252000\n",
            "income                  41917\n",
            "age                        59\n",
            "experience                 21\n",
            "married                     2\n",
            "house_ownership             3\n",
            "car_ownership               2\n",
            "profession                 51\n",
            "city                      317\n",
            "state                      29\n",
            "current_job_years          15\n",
            "current_house_years         5\n",
            "risk_flag                   2\n",
            "dtype: int64\n",
            "**************************************************\n",
            "id                     28000\n",
            "income                  9916\n",
            "age                       59\n",
            "experience                21\n",
            "married                    2\n",
            "house_ownership            3\n",
            "car_ownership              2\n",
            "profession                51\n",
            "city                     317\n",
            "state                     29\n",
            "current_job_years         15\n",
            "current_house_years        5\n",
            "dtype: int64\n"
          ],
          "name": "stdout"
        }
      ]
    },
    {
      "cell_type": "markdown",
      "metadata": {
        "id": "4ft4c58-Urqe"
      },
      "source": [
        "## Complex categorical features"
      ]
    },
    {
      "cell_type": "code",
      "metadata": {
        "colab": {
          "base_uri": "https://localhost:8080/"
        },
        "id": "mx01LuZkUqdu",
        "outputId": "55dfcc94-8ad3-43dd-9b91-d365e1a18fb4"
      },
      "source": [
        "#large number of categories\n",
        "train_data[['state', 'city', 'profession']].nunique()"
      ],
      "execution_count": null,
      "outputs": [
        {
          "output_type": "execute_result",
          "data": {
            "text/plain": [
              "state          29\n",
              "city          317\n",
              "profession     51\n",
              "dtype: int64"
            ]
          },
          "metadata": {
            "tags": []
          },
          "execution_count": 12
        }
      ]
    },
    {
      "cell_type": "code",
      "metadata": {
        "colab": {
          "base_uri": "https://localhost:8080/"
        },
        "id": "Mcd5kCR-Vm8E",
        "outputId": "8b62246b-8ee9-47ce-d628-bb2f537ba703"
      },
      "source": [
        "train_data['risk_flag'].mean()"
      ],
      "execution_count": null,
      "outputs": [
        {
          "output_type": "execute_result",
          "data": {
            "text/plain": [
              "0.123"
            ]
          },
          "metadata": {
            "tags": []
          },
          "execution_count": 13
        }
      ]
    },
    {
      "cell_type": "markdown",
      "metadata": {
        "id": "wfO4wry9U9_3"
      },
      "source": [
        "**Distribution of risk_flag grouped by categories**"
      ]
    },
    {
      "cell_type": "code",
      "metadata": {
        "colab": {
          "base_uri": "https://localhost:8080/",
          "height": 337
        },
        "id": "1r3KYd0zVH-H",
        "outputId": "0e265e86-f453-4eb6-d909-9c032fb4cb27"
      },
      "source": [
        "import matplotlib.pyplot as plt\n",
        "\n",
        "g_state = train_data.groupby('state')['risk_flag'].agg(['mean', 'count'])\n",
        "fig = plt.figure()\n",
        "ax = fig.add_axes([0,0,1,1])\n",
        "ax.bar(g_state.index,g_state['mean'])\n",
        "plt.show()"
      ],
      "execution_count": null,
      "outputs": [
        {
          "output_type": "display_data",
          "data": {
            "image/png": "[encoded data removed]",
            "text/plain": [
              "<Figure size 432x288 with 1 Axes>"
            ]
          },
          "metadata": {
            "tags": [],
            "needs_background": "light"
          }
        }
      ]
    },
    {
      "cell_type": "code",
      "metadata": {
        "colab": {
          "base_uri": "https://localhost:8080/",
          "height": 337
        },
        "id": "CiqSfoL7VTRZ",
        "outputId": "7557c1c5-2b67-45a3-e33f-ae8ef3534684"
      },
      "source": [
        "import matplotlib.pyplot as plt\n",
        "\n",
        "g_city = train_data.groupby('city')['risk_flag'].agg(['mean', 'count'])\n",
        "fig = plt.figure()\n",
        "ax = fig.add_axes([0,0,1,1])\n",
        "ax.bar(g_city.index,g_city['mean'])\n",
        "plt.show()"
      ],
      "execution_count": null,
      "outputs": [
        {
          "output_type": "display_data",
          "data": {
            "image/png": "[encoded data removed]",
            "text/plain": [
              "<Figure size 432x288 with 1 Axes>"
            ]
          },
          "metadata": {
            "tags": [],
            "needs_background": "light"
          }
        }
      ]
    },
    {
      "cell_type": "code",
      "metadata": {
        "colab": {
          "base_uri": "https://localhost:8080/",
          "height": 337
        },
        "id": "U5RNgfoGVcVL",
        "outputId": "56defd1e-e37c-45bf-9f8a-fc686c183d5d"
      },
      "source": [
        "import matplotlib.pyplot as plt\n",
        "\n",
        "g_prof = train_data.groupby('profession')['risk_flag'].agg(['mean', 'count'])\n",
        "fig = plt.figure()\n",
        "ax = fig.add_axes([0,0,1,1])\n",
        "ax.bar(g_prof.index,g_prof['mean'])\n",
        "plt.show()"
      ],
      "execution_count": null,
      "outputs": [
        {
          "output_type": "display_data",
          "data": {
            "image/png": "[encoded data removed]",
            "text/plain": [
              "<Figure size 432x288 with 1 Axes>"
            ]
          },
          "metadata": {
            "tags": [],
            "needs_background": "light"
          }
        }
      ]
    },
    {
      "cell_type": "code",
      "metadata": {
        "colab": {
          "base_uri": "https://localhost:8080/"
        },
        "id": "1irRoIKQI8M3",
        "outputId": "fe0449a7-530e-4f76-a000-829528776a6f"
      },
      "source": [
        "train_data['state'].unique()"
      ],
      "execution_count": null,
      "outputs": [
        {
          "output_type": "execute_result",
          "data": {
            "text/plain": [
              "array(['Kerala', 'West_Bengal', 'Maharashtra', 'Rajasthan', 'Bihar',\n",
              "       'Delhi', 'Andhra_Pradesh', 'Odisha', 'Telangana', 'Mizoram',\n",
              "       'Uttar_Pradesh', 'Punjab', 'Gujarat', 'Haryana',\n",
              "       'Himachal_Pradesh', 'Chhattisgarh', 'Jharkhand', 'Puducherry',\n",
              "       'Karnataka', 'Tamil_Nadu', 'Manipur', 'Assam', 'Jammu_and_Kashmir',\n",
              "       'Tripura', 'Madhya_Pradesh', 'Chandigarh', 'Uttarakhand',\n",
              "       'Uttar_Pradesh[5]', 'Sikkim'], dtype=object)"
            ]
          },
          "metadata": {
            "tags": []
          },
          "execution_count": 17
        }
      ]
    },
    {
      "cell_type": "code",
      "metadata": {
        "id": "FKFmvW5KI5YG"
      },
      "source": [
        "train_data['state'].replace('Uttar_Pradesh[5]', 'Uttar_Pradesh', inplace=True)"
      ],
      "execution_count": null,
      "outputs": []
    },
    {
      "cell_type": "markdown",
      "metadata": {
        "id": "VNPIs1FZV51X"
      },
      "source": [
        "## Cleaning Test Data"
      ]
    },
    {
      "cell_type": "code",
      "metadata": {
        "colab": {
          "base_uri": "https://localhost:8080/"
        },
        "id": "j24NLXjxJeqX",
        "outputId": "a3fc0d3a-563d-4f85-a13c-8cd145bfda42"
      },
      "source": [
        "set1 = set(train_data['state'])\n",
        "set2 = set(test_data['state'])\n",
        "set1 ^ set2"
      ],
      "execution_count": null,
      "outputs": [
        {
          "output_type": "execute_result",
          "data": {
            "text/plain": [
              "{'Andhra Pradesh',\n",
              " 'Andhra_Pradesh',\n",
              " 'Himachal Pradesh',\n",
              " 'Himachal_Pradesh',\n",
              " 'Jammu and Kashmir',\n",
              " 'Jammu_and_Kashmir',\n",
              " 'Madhya Pradesh',\n",
              " 'Madhya_Pradesh',\n",
              " 'Tamil Nadu',\n",
              " 'Tamil_Nadu',\n",
              " 'Uttar Pradesh',\n",
              " 'Uttar Pradesh[5]',\n",
              " 'Uttar_Pradesh',\n",
              " 'West Bengal',\n",
              " 'West_Bengal'}"
            ]
          },
          "metadata": {
            "tags": []
          },
          "execution_count": 19
        }
      ]
    },
    {
      "cell_type": "code",
      "metadata": {
        "id": "AIyItqUyJlf5"
      },
      "source": [
        "def concat(x):\n",
        "  return x.replace(' ', '_')\n",
        "\n",
        "test_data['state'] = test_data['state'].apply(concat)\n",
        "test_data['city'] = test_data['city'].apply(concat)\n",
        "test_data['profession'] = test_data['profession'].apply(concat)\n",
        "\n",
        "test_data['state'].replace('Uttar_Pradesh[5]', 'Uttar_Pradesh', inplace=True)"
      ],
      "execution_count": null,
      "outputs": []
    },
    {
      "cell_type": "code",
      "metadata": {
        "colab": {
          "base_uri": "https://localhost:8080/"
        },
        "id": "M210uuFEJtPi",
        "outputId": "9c0c7956-11f4-4c89-9c7a-81721a5dc9e0"
      },
      "source": [
        "for col in ['state', 'city', 'profession']:\n",
        "\n",
        "  set1 = set(train_data[col])\n",
        "  set2 = set(test_data[col])\n",
        "  print(col,len(set1 ^ set2) )"
      ],
      "execution_count": null,
      "outputs": [
        {
          "output_type": "stream",
          "text": [
            "state 0\n",
            "city 0\n",
            "profession 0\n"
          ],
          "name": "stdout"
        }
      ]
    },
    {
      "cell_type": "markdown",
      "metadata": {
        "id": "RY4p3BPsoavC"
      },
      "source": [
        "## Response Encoding"
      ]
    },
    {
      "cell_type": "code",
      "metadata": {
        "colab": {
          "base_uri": "https://localhost:8080/",
          "height": 221
        },
        "id": "jGCZamVPofJ3",
        "outputId": "95d67504-7f7d-4677-be89-56809d539934"
      },
      "source": [
        "res_state = dict(train_data.groupby('state')['risk_flag'].mean())\n",
        "res_city = dict(train_data.groupby('city')['risk_flag'].mean())\n",
        "res_prof = dict(train_data.groupby('profession')['risk_flag'].mean())\n",
        "\n",
        "cat_data1 = pd.DataFrame()\n",
        "cat_data1['response_state'] = train_data['state'].map(res_state)\n",
        "cat_data1['response_city'] = train_data['city'].map(res_city)\n",
        "cat_data1['response_prof'] = train_data['profession'].map(res_prof)\n",
        "\n",
        "print(cat_data1.shape)\n",
        "cat_data1.head()"
      ],
      "execution_count": null,
      "outputs": [
        {
          "output_type": "stream",
          "text": [
            "(252000, 3)\n"
          ],
          "name": "stdout"
        },
        {
          "output_type": "execute_result",
          "data": {
            "text/html": [
              "<div>\n",
              "<style scoped>\n",
              "    .dataframe tbody tr th:only-of-type {\n",
              "        vertical-align: middle;\n",
              "    }\n",
              "\n",
              "    .dataframe tbody tr th {\n",
              "        vertical-align: top;\n",
              "    }\n",
              "\n",
              "    .dataframe thead th {\n",
              "        text-align: right;\n",
              "    }\n",
              "</style>\n",
              "<table border=\"1\" class=\"dataframe\">\n",
              "  <thead>\n",
              "    <tr style=\"text-align: right;\">\n",
              "      <th></th>\n",
              "      <th>response_state</th>\n",
              "      <th>response_city</th>\n",
              "      <th>response_prof</th>\n",
              "    </tr>\n",
              "  </thead>\n",
              "  <tbody>\n",
              "    <tr>\n",
              "      <th>117955</th>\n",
              "      <td>0.167097</td>\n",
              "      <td>0.252862</td>\n",
              "      <td>0.124048</td>\n",
              "    </tr>\n",
              "    <tr>\n",
              "      <th>89977</th>\n",
              "      <td>0.128135</td>\n",
              "      <td>0.178122</td>\n",
              "      <td>0.115570</td>\n",
              "    </tr>\n",
              "    <tr>\n",
              "      <th>86851</th>\n",
              "      <td>0.113254</td>\n",
              "      <td>0.086370</td>\n",
              "      <td>0.135789</td>\n",
              "    </tr>\n",
              "    <tr>\n",
              "      <th>225217</th>\n",
              "      <td>0.140833</td>\n",
              "      <td>0.238452</td>\n",
              "      <td>0.135832</td>\n",
              "    </tr>\n",
              "    <tr>\n",
              "      <th>186118</th>\n",
              "      <td>0.140833</td>\n",
              "      <td>0.138721</td>\n",
              "      <td>0.115385</td>\n",
              "    </tr>\n",
              "  </tbody>\n",
              "</table>\n",
              "</div>"
            ],
            "text/plain": [
              "        response_state  response_city  response_prof\n",
              "117955        0.167097       0.252862       0.124048\n",
              "89977         0.128135       0.178122       0.115570\n",
              "86851         0.113254       0.086370       0.135789\n",
              "225217        0.140833       0.238452       0.135832\n",
              "186118        0.140833       0.138721       0.115385"
            ]
          },
          "metadata": {
            "tags": []
          },
          "execution_count": 22
        }
      ]
    },
    {
      "cell_type": "code",
      "metadata": {
        "colab": {
          "base_uri": "https://localhost:8080/",
          "height": 221
        },
        "id": "8Lvm9JLoolMK",
        "outputId": "aca33465-c625-409d-88b7-93f2fd84122b"
      },
      "source": [
        "#Mapping the learnt values from training data to test \n",
        "cat_data1_test = pd.DataFrame()\n",
        "cat_data1_test['response_state'] = test_data['state'].map(res_state)\n",
        "cat_data1_test['response_city'] = test_data['city'].map(res_city)\n",
        "cat_data1_test['response_prof'] = test_data['profession'].map(res_prof)\n",
        "\n",
        "print(cat_data1_test.shape)\n",
        "cat_data1_test.head()"
      ],
      "execution_count": null,
      "outputs": [
        {
          "output_type": "stream",
          "text": [
            "(28000, 3)\n"
          ],
          "name": "stdout"
        },
        {
          "output_type": "execute_result",
          "data": {
            "text/html": [
              "<div>\n",
              "<style scoped>\n",
              "    .dataframe tbody tr th:only-of-type {\n",
              "        vertical-align: middle;\n",
              "    }\n",
              "\n",
              "    .dataframe tbody tr th {\n",
              "        vertical-align: top;\n",
              "    }\n",
              "\n",
              "    .dataframe thead th {\n",
              "        text-align: right;\n",
              "    }\n",
              "</style>\n",
              "<table border=\"1\" class=\"dataframe\">\n",
              "  <thead>\n",
              "    <tr style=\"text-align: right;\">\n",
              "      <th></th>\n",
              "      <th>response_state</th>\n",
              "      <th>response_city</th>\n",
              "      <th>response_prof</th>\n",
              "    </tr>\n",
              "  </thead>\n",
              "  <tbody>\n",
              "    <tr>\n",
              "      <th>0</th>\n",
              "      <td>0.128135</td>\n",
              "      <td>0.112277</td>\n",
              "      <td>0.144264</td>\n",
              "    </tr>\n",
              "    <tr>\n",
              "      <th>1</th>\n",
              "      <td>0.113254</td>\n",
              "      <td>0.108449</td>\n",
              "      <td>0.135789</td>\n",
              "    </tr>\n",
              "    <tr>\n",
              "      <th>2</th>\n",
              "      <td>0.113254</td>\n",
              "      <td>0.072746</td>\n",
              "      <td>0.129514</td>\n",
              "    </tr>\n",
              "    <tr>\n",
              "      <th>3</th>\n",
              "      <td>0.113254</td>\n",
              "      <td>0.039655</td>\n",
              "      <td>0.121465</td>\n",
              "    </tr>\n",
              "    <tr>\n",
              "      <th>4</th>\n",
              "      <td>0.128135</td>\n",
              "      <td>0.148101</td>\n",
              "      <td>0.119604</td>\n",
              "    </tr>\n",
              "  </tbody>\n",
              "</table>\n",
              "</div>"
            ],
            "text/plain": [
              "   response_state  response_city  response_prof\n",
              "0        0.128135       0.112277       0.144264\n",
              "1        0.113254       0.108449       0.135789\n",
              "2        0.113254       0.072746       0.129514\n",
              "3        0.113254       0.039655       0.121465\n",
              "4        0.128135       0.148101       0.119604"
            ]
          },
          "metadata": {
            "tags": []
          },
          "execution_count": 23
        }
      ]
    },
    {
      "cell_type": "markdown",
      "metadata": {
        "id": "AQoYig8Goxib"
      },
      "source": [
        "## One Hot Encodings"
      ]
    },
    {
      "cell_type": "code",
      "metadata": {
        "colab": {
          "base_uri": "https://localhost:8080/"
        },
        "id": "jeYJDWoGo0nJ",
        "outputId": "f774780c-3663-4b64-ffb8-97fc7e6f106c"
      },
      "source": [
        "state_ohe = pd.get_dummies(train_data['state'], prefix='st')\n",
        "print(state_ohe.shape)\n",
        "\n",
        "city_ohe = pd.get_dummies(train_data['city'], prefix='ct')\n",
        "print(city_ohe.shape)\n",
        "\n",
        "profession_ohe = pd.get_dummies(train_data['profession'], prefix='prf')\n",
        "print(profession_ohe.shape)"
      ],
      "execution_count": null,
      "outputs": [
        {
          "output_type": "stream",
          "text": [
            "(252000, 28)\n",
            "(252000, 317)\n",
            "(252000, 51)\n"
          ],
          "name": "stdout"
        }
      ]
    },
    {
      "cell_type": "code",
      "metadata": {
        "colab": {
          "base_uri": "https://localhost:8080/"
        },
        "id": "QgX-RUUTpEy_",
        "outputId": "fcfbbf17-7ce2-4ae2-dc11-bd3cb7f7270f"
      },
      "source": [
        "state_ohe_test = pd.get_dummies(test_data['state'], prefix='st')\n",
        "print(state_ohe_test.shape)\n",
        "\n",
        "city_ohe_test = pd.get_dummies(test_data['city'], prefix='ct')\n",
        "print(city_ohe_test.shape)\n",
        "\n",
        "profession_ohe_test = pd.get_dummies(test_data['profession'], prefix='prf')\n",
        "print(profession_ohe_test.shape)"
      ],
      "execution_count": null,
      "outputs": [
        {
          "output_type": "stream",
          "text": [
            "(28000, 28)\n",
            "(28000, 317)\n",
            "(28000, 51)\n"
          ],
          "name": "stdout"
        }
      ]
    },
    {
      "cell_type": "markdown",
      "metadata": {
        "id": "7S1ZbVMdXcMp"
      },
      "source": [
        "## Simple categorical features"
      ]
    },
    {
      "cell_type": "markdown",
      "metadata": {
        "id": "BrnTARI8XirP"
      },
      "source": [
        "**One Hot Encodings**"
      ]
    },
    {
      "cell_type": "code",
      "metadata": {
        "colab": {
          "base_uri": "https://localhost:8080/",
          "height": 221
        },
        "id": "iV0PIkAiXgqo",
        "outputId": "5fdf4946-af7a-4ca2-bd85-84b85a179442"
      },
      "source": [
        "married_ohe = pd.get_dummies(train_data['married'])\n",
        "print(married_ohe.shape)\n",
        "married_ohe.head()"
      ],
      "execution_count": null,
      "outputs": [
        {
          "output_type": "stream",
          "text": [
            "(252000, 2)\n"
          ],
          "name": "stdout"
        },
        {
          "output_type": "execute_result",
          "data": {
            "text/html": [
              "<div>\n",
              "<style scoped>\n",
              "    .dataframe tbody tr th:only-of-type {\n",
              "        vertical-align: middle;\n",
              "    }\n",
              "\n",
              "    .dataframe tbody tr th {\n",
              "        vertical-align: top;\n",
              "    }\n",
              "\n",
              "    .dataframe thead th {\n",
              "        text-align: right;\n",
              "    }\n",
              "</style>\n",
              "<table border=\"1\" class=\"dataframe\">\n",
              "  <thead>\n",
              "    <tr style=\"text-align: right;\">\n",
              "      <th></th>\n",
              "      <th>married</th>\n",
              "      <th>single</th>\n",
              "    </tr>\n",
              "  </thead>\n",
              "  <tbody>\n",
              "    <tr>\n",
              "      <th>117955</th>\n",
              "      <td>0</td>\n",
              "      <td>1</td>\n",
              "    </tr>\n",
              "    <tr>\n",
              "      <th>89977</th>\n",
              "      <td>0</td>\n",
              "      <td>1</td>\n",
              "    </tr>\n",
              "    <tr>\n",
              "      <th>86851</th>\n",
              "      <td>0</td>\n",
              "      <td>1</td>\n",
              "    </tr>\n",
              "    <tr>\n",
              "      <th>225217</th>\n",
              "      <td>0</td>\n",
              "      <td>1</td>\n",
              "    </tr>\n",
              "    <tr>\n",
              "      <th>186118</th>\n",
              "      <td>0</td>\n",
              "      <td>1</td>\n",
              "    </tr>\n",
              "  </tbody>\n",
              "</table>\n",
              "</div>"
            ],
            "text/plain": [
              "        married  single\n",
              "117955        0       1\n",
              "89977         0       1\n",
              "86851         0       1\n",
              "225217        0       1\n",
              "186118        0       1"
            ]
          },
          "metadata": {
            "tags": []
          },
          "execution_count": 26
        }
      ]
    },
    {
      "cell_type": "code",
      "metadata": {
        "colab": {
          "base_uri": "https://localhost:8080/",
          "height": 221
        },
        "id": "kRFU7z7mXu0S",
        "outputId": "58e3a927-e1f9-423f-d805-4768b39f3b79"
      },
      "source": [
        "house_ohe = pd.get_dummies(train_data['house_ownership'], prefix='house')\n",
        "print(house_ohe.shape)\n",
        "house_ohe.head()"
      ],
      "execution_count": null,
      "outputs": [
        {
          "output_type": "stream",
          "text": [
            "(252000, 3)\n"
          ],
          "name": "stdout"
        },
        {
          "output_type": "execute_result",
          "data": {
            "text/html": [
              "<div>\n",
              "<style scoped>\n",
              "    .dataframe tbody tr th:only-of-type {\n",
              "        vertical-align: middle;\n",
              "    }\n",
              "\n",
              "    .dataframe tbody tr th {\n",
              "        vertical-align: top;\n",
              "    }\n",
              "\n",
              "    .dataframe thead th {\n",
              "        text-align: right;\n",
              "    }\n",
              "</style>\n",
              "<table border=\"1\" class=\"dataframe\">\n",
              "  <thead>\n",
              "    <tr style=\"text-align: right;\">\n",
              "      <th></th>\n",
              "      <th>house_norent_noown</th>\n",
              "      <th>house_owned</th>\n",
              "      <th>house_rented</th>\n",
              "    </tr>\n",
              "  </thead>\n",
              "  <tbody>\n",
              "    <tr>\n",
              "      <th>117955</th>\n",
              "      <td>0</td>\n",
              "      <td>0</td>\n",
              "      <td>1</td>\n",
              "    </tr>\n",
              "    <tr>\n",
              "      <th>89977</th>\n",
              "      <td>0</td>\n",
              "      <td>0</td>\n",
              "      <td>1</td>\n",
              "    </tr>\n",
              "    <tr>\n",
              "      <th>86851</th>\n",
              "      <td>0</td>\n",
              "      <td>0</td>\n",
              "      <td>1</td>\n",
              "    </tr>\n",
              "    <tr>\n",
              "      <th>225217</th>\n",
              "      <td>0</td>\n",
              "      <td>0</td>\n",
              "      <td>1</td>\n",
              "    </tr>\n",
              "    <tr>\n",
              "      <th>186118</th>\n",
              "      <td>0</td>\n",
              "      <td>0</td>\n",
              "      <td>1</td>\n",
              "    </tr>\n",
              "  </tbody>\n",
              "</table>\n",
              "</div>"
            ],
            "text/plain": [
              "        house_norent_noown  house_owned  house_rented\n",
              "117955                   0            0             1\n",
              "89977                    0            0             1\n",
              "86851                    0            0             1\n",
              "225217                   0            0             1\n",
              "186118                   0            0             1"
            ]
          },
          "metadata": {
            "tags": []
          },
          "execution_count": 27
        }
      ]
    },
    {
      "cell_type": "code",
      "metadata": {
        "colab": {
          "base_uri": "https://localhost:8080/",
          "height": 221
        },
        "id": "0rJqHQD2Xys5",
        "outputId": "83569d54-52f7-49c5-abb1-a37129892dd6"
      },
      "source": [
        "car_ohe = pd.get_dummies(train_data['car_ownership'], prefix='car')\n",
        "print(car_ohe.shape)\n",
        "car_ohe.head()"
      ],
      "execution_count": null,
      "outputs": [
        {
          "output_type": "stream",
          "text": [
            "(252000, 2)\n"
          ],
          "name": "stdout"
        },
        {
          "output_type": "execute_result",
          "data": {
            "text/html": [
              "<div>\n",
              "<style scoped>\n",
              "    .dataframe tbody tr th:only-of-type {\n",
              "        vertical-align: middle;\n",
              "    }\n",
              "\n",
              "    .dataframe tbody tr th {\n",
              "        vertical-align: top;\n",
              "    }\n",
              "\n",
              "    .dataframe thead th {\n",
              "        text-align: right;\n",
              "    }\n",
              "</style>\n",
              "<table border=\"1\" class=\"dataframe\">\n",
              "  <thead>\n",
              "    <tr style=\"text-align: right;\">\n",
              "      <th></th>\n",
              "      <th>car_no</th>\n",
              "      <th>car_yes</th>\n",
              "    </tr>\n",
              "  </thead>\n",
              "  <tbody>\n",
              "    <tr>\n",
              "      <th>117955</th>\n",
              "      <td>1</td>\n",
              "      <td>0</td>\n",
              "    </tr>\n",
              "    <tr>\n",
              "      <th>89977</th>\n",
              "      <td>1</td>\n",
              "      <td>0</td>\n",
              "    </tr>\n",
              "    <tr>\n",
              "      <th>86851</th>\n",
              "      <td>1</td>\n",
              "      <td>0</td>\n",
              "    </tr>\n",
              "    <tr>\n",
              "      <th>225217</th>\n",
              "      <td>1</td>\n",
              "      <td>0</td>\n",
              "    </tr>\n",
              "    <tr>\n",
              "      <th>186118</th>\n",
              "      <td>1</td>\n",
              "      <td>0</td>\n",
              "    </tr>\n",
              "  </tbody>\n",
              "</table>\n",
              "</div>"
            ],
            "text/plain": [
              "        car_no  car_yes\n",
              "117955       1        0\n",
              "89977        1        0\n",
              "86851        1        0\n",
              "225217       1        0\n",
              "186118       1        0"
            ]
          },
          "metadata": {
            "tags": []
          },
          "execution_count": 28
        }
      ]
    },
    {
      "cell_type": "markdown",
      "metadata": {
        "id": "P3HLGx28X2o3"
      },
      "source": [
        "**For Test Data**"
      ]
    },
    {
      "cell_type": "code",
      "metadata": {
        "colab": {
          "base_uri": "https://localhost:8080/"
        },
        "id": "uTx6dycjX4on",
        "outputId": "2a29e791-2776-4716-b736-8b516121cf98"
      },
      "source": [
        "married_ohe_test = pd.get_dummies(test_data['married'])\n",
        "print(married_ohe_test.shape)\n",
        "\n",
        "house_ohe_test = pd.get_dummies(test_data['house_ownership'], prefix='house')\n",
        "print(house_ohe_test.shape)\n",
        "\n",
        "car_ohe_test = pd.get_dummies(test_data['car_ownership'], prefix='car')\n",
        "print(car_ohe_test.shape)"
      ],
      "execution_count": null,
      "outputs": [
        {
          "output_type": "stream",
          "text": [
            "(28000, 2)\n",
            "(28000, 3)\n",
            "(28000, 2)\n"
          ],
          "name": "stdout"
        }
      ]
    },
    {
      "cell_type": "markdown",
      "metadata": {
        "id": "usa21iHdYFdl"
      },
      "source": [
        "## Numerical Features"
      ]
    },
    {
      "cell_type": "code",
      "metadata": {
        "colab": {
          "base_uri": "https://localhost:8080/",
          "height": 1000
        },
        "id": "q3SWgQ6KYL1-",
        "outputId": "5ef2c0bd-3e92-49ed-9b8c-c48a8a2b5e9d"
      },
      "source": [
        "num_cols = ['income', 'age', 'experience', 'current_job_years', 'current_house_years']\n",
        "\n",
        "for each in num_cols:\n",
        "    sns.distplot(train_data[each])\n",
        "    plt.show()"
      ],
      "execution_count": null,
      "outputs": [
        {
          "output_type": "display_data",
          "data": {
            "image/png": "[encoded data removed]",
            "text/plain": [
              "<Figure size 432x288 with 1 Axes>"
            ]
          },
          "metadata": {
            "tags": [],
            "needs_background": "light"
          }
        },
        {
          "output_type": "display_data",
          "data": {
            "image/png": "[encoded data removed]",
            "text/plain": [
              "<Figure size 432x288 with 1 Axes>"
            ]
          },
          "metadata": {
            "tags": [],
            "needs_background": "light"
          }
        },
        {
          "output_type": "display_data",
          "data": {
            "image/png": "[encoded data removed]",
            "text/plain": [
              "<Figure size 432x288 with 1 Axes>"
            ]
          },
          "metadata": {
            "tags": [],
            "needs_background": "light"
          }
        },
        {
          "output_type": "display_data",
          "data": {
            "image/png": "[encoded data removed]",
            "text/plain": [
              "<Figure size 432x288 with 1 Axes>"
            ]
          },
          "metadata": {
            "tags": [],
            "needs_background": "light"
          }
        },
        {
          "output_type": "display_data",
          "data": {
            "image/png": "[encoded data removed]",
            "text/plain": [
              "<Figure size 432x288 with 1 Axes>"
            ]
          },
          "metadata": {
            "tags": [],
            "needs_background": "light"
          }
        }
      ]
    },
    {
      "cell_type": "code",
      "metadata": {
        "colab": {
          "base_uri": "https://localhost:8080/",
          "height": 204
        },
        "id": "sqWJlgRlMeDt",
        "outputId": "530b5418-fbc2-499c-e0fa-3b5a19229af5"
      },
      "source": [
        "num_cols = ['income', 'age', 'experience', 'current_job_years', 'current_house_years']\n",
        "\n",
        "#num_data1 is raw numerical data\n",
        "num_data1 = train_data[num_cols].copy()\n",
        "num_data1.head()"
      ],
      "execution_count": null,
      "outputs": [
        {
          "output_type": "execute_result",
          "data": {
            "text/html": [
              "<div>\n",
              "<style scoped>\n",
              "    .dataframe tbody tr th:only-of-type {\n",
              "        vertical-align: middle;\n",
              "    }\n",
              "\n",
              "    .dataframe tbody tr th {\n",
              "        vertical-align: top;\n",
              "    }\n",
              "\n",
              "    .dataframe thead th {\n",
              "        text-align: right;\n",
              "    }\n",
              "</style>\n",
              "<table border=\"1\" class=\"dataframe\">\n",
              "  <thead>\n",
              "    <tr style=\"text-align: right;\">\n",
              "      <th></th>\n",
              "      <th>income</th>\n",
              "      <th>age</th>\n",
              "      <th>experience</th>\n",
              "      <th>current_job_years</th>\n",
              "      <th>current_house_years</th>\n",
              "    </tr>\n",
              "  </thead>\n",
              "  <tbody>\n",
              "    <tr>\n",
              "      <th>117955</th>\n",
              "      <td>6460018</td>\n",
              "      <td>75</td>\n",
              "      <td>0</td>\n",
              "      <td>0</td>\n",
              "      <td>14</td>\n",
              "    </tr>\n",
              "    <tr>\n",
              "      <th>89977</th>\n",
              "      <td>7134812</td>\n",
              "      <td>72</td>\n",
              "      <td>16</td>\n",
              "      <td>4</td>\n",
              "      <td>14</td>\n",
              "    </tr>\n",
              "    <tr>\n",
              "      <th>86851</th>\n",
              "      <td>8918340</td>\n",
              "      <td>28</td>\n",
              "      <td>13</td>\n",
              "      <td>10</td>\n",
              "      <td>14</td>\n",
              "    </tr>\n",
              "    <tr>\n",
              "      <th>225217</th>\n",
              "      <td>2499535</td>\n",
              "      <td>29</td>\n",
              "      <td>17</td>\n",
              "      <td>9</td>\n",
              "      <td>12</td>\n",
              "    </tr>\n",
              "    <tr>\n",
              "      <th>186118</th>\n",
              "      <td>270761</td>\n",
              "      <td>48</td>\n",
              "      <td>1</td>\n",
              "      <td>1</td>\n",
              "      <td>11</td>\n",
              "    </tr>\n",
              "  </tbody>\n",
              "</table>\n",
              "</div>"
            ],
            "text/plain": [
              "         income  age  experience  current_job_years  current_house_years\n",
              "117955  6460018   75           0                  0                   14\n",
              "89977   7134812   72          16                  4                   14\n",
              "86851   8918340   28          13                 10                   14\n",
              "225217  2499535   29          17                  9                   12\n",
              "186118   270761   48           1                  1                   11"
            ]
          },
          "metadata": {
            "tags": []
          },
          "execution_count": 31
        }
      ]
    },
    {
      "cell_type": "code",
      "metadata": {
        "id": "lpYkjcXIMEUM"
      },
      "source": [
        "num_data1_test = test_data[num_cols].copy()"
      ],
      "execution_count": null,
      "outputs": []
    },
    {
      "cell_type": "markdown",
      "metadata": {
        "id": "QVl7-9cjYaoF"
      },
      "source": [
        "## Column False Values"
      ]
    },
    {
      "cell_type": "code",
      "metadata": {
        "colab": {
          "base_uri": "https://localhost:8080/",
          "height": 221
        },
        "id": "isUjGK0iMK4N",
        "outputId": "55eb60f6-7fcf-4b7e-9b16-1f0bc77670a8"
      },
      "source": [
        "zero_exp = num_data1[num_data1['experience']==0]\n",
        "print(len(zero_exp))\n",
        "zero_exp.head()"
      ],
      "execution_count": null,
      "outputs": [
        {
          "output_type": "stream",
          "text": [
            "11043\n"
          ],
          "name": "stdout"
        },
        {
          "output_type": "execute_result",
          "data": {
            "text/html": [
              "<div>\n",
              "<style scoped>\n",
              "    .dataframe tbody tr th:only-of-type {\n",
              "        vertical-align: middle;\n",
              "    }\n",
              "\n",
              "    .dataframe tbody tr th {\n",
              "        vertical-align: top;\n",
              "    }\n",
              "\n",
              "    .dataframe thead th {\n",
              "        text-align: right;\n",
              "    }\n",
              "</style>\n",
              "<table border=\"1\" class=\"dataframe\">\n",
              "  <thead>\n",
              "    <tr style=\"text-align: right;\">\n",
              "      <th></th>\n",
              "      <th>income</th>\n",
              "      <th>age</th>\n",
              "      <th>experience</th>\n",
              "      <th>current_job_years</th>\n",
              "      <th>current_house_years</th>\n",
              "    </tr>\n",
              "  </thead>\n",
              "  <tbody>\n",
              "    <tr>\n",
              "      <th>117955</th>\n",
              "      <td>6460018</td>\n",
              "      <td>75</td>\n",
              "      <td>0</td>\n",
              "      <td>0</td>\n",
              "      <td>14</td>\n",
              "    </tr>\n",
              "    <tr>\n",
              "      <th>68126</th>\n",
              "      <td>4386483</td>\n",
              "      <td>37</td>\n",
              "      <td>0</td>\n",
              "      <td>0</td>\n",
              "      <td>11</td>\n",
              "    </tr>\n",
              "    <tr>\n",
              "      <th>100391</th>\n",
              "      <td>8683216</td>\n",
              "      <td>21</td>\n",
              "      <td>0</td>\n",
              "      <td>0</td>\n",
              "      <td>12</td>\n",
              "    </tr>\n",
              "    <tr>\n",
              "      <th>18717</th>\n",
              "      <td>5574828</td>\n",
              "      <td>74</td>\n",
              "      <td>0</td>\n",
              "      <td>0</td>\n",
              "      <td>10</td>\n",
              "    </tr>\n",
              "    <tr>\n",
              "      <th>140561</th>\n",
              "      <td>2433481</td>\n",
              "      <td>48</td>\n",
              "      <td>0</td>\n",
              "      <td>0</td>\n",
              "      <td>14</td>\n",
              "    </tr>\n",
              "  </tbody>\n",
              "</table>\n",
              "</div>"
            ],
            "text/plain": [
              "         income  age  experience  current_job_years  current_house_years\n",
              "117955  6460018   75           0                  0                   14\n",
              "68126   4386483   37           0                  0                   11\n",
              "100391  8683216   21           0                  0                   12\n",
              "18717   5574828   74           0                  0                   10\n",
              "140561  2433481   48           0                  0                   14"
            ]
          },
          "metadata": {
            "tags": []
          },
          "execution_count": 33
        }
      ]
    },
    {
      "cell_type": "code",
      "metadata": {
        "colab": {
          "base_uri": "https://localhost:8080/"
        },
        "id": "KHVZiukuYpYD",
        "outputId": "83dd1c64-e980-4128-f246-5acd232b9500"
      },
      "source": [
        "len(zero_exp[zero_exp['age']>40])"
      ],
      "execution_count": null,
      "outputs": [
        {
          "output_type": "execute_result",
          "data": {
            "text/plain": [
              "7298"
            ]
          },
          "metadata": {
            "tags": []
          },
          "execution_count": 34
        }
      ]
    },
    {
      "cell_type": "code",
      "metadata": {
        "colab": {
          "base_uri": "https://localhost:8080/"
        },
        "id": "ji5cg3e2Yq8v",
        "outputId": "797bc93e-d9e9-43ee-82b6-058594833ca7"
      },
      "source": [
        "len(zero_exp[zero_exp['current_job_years']==0])"
      ],
      "execution_count": null,
      "outputs": [
        {
          "output_type": "execute_result",
          "data": {
            "text/plain": [
              "11043"
            ]
          },
          "metadata": {
            "tags": []
          },
          "execution_count": 35
        }
      ]
    },
    {
      "cell_type": "code",
      "metadata": {
        "colab": {
          "base_uri": "https://localhost:8080/"
        },
        "id": "HPvIXqoIYt3t",
        "outputId": "8357380c-32c2-403e-b721-bc2a90b8e930"
      },
      "source": [
        "len(num_data1[num_data1['current_house_years']==0])"
      ],
      "execution_count": null,
      "outputs": [
        {
          "output_type": "execute_result",
          "data": {
            "text/plain": [
              "0"
            ]
          },
          "metadata": {
            "tags": []
          },
          "execution_count": 36
        }
      ]
    },
    {
      "cell_type": "code",
      "metadata": {
        "colab": {
          "base_uri": "https://localhost:8080/"
        },
        "id": "pCnoKWH2Y55a",
        "outputId": "57a753dd-35b1-4fb5-a03d-75aa7e8a0c10"
      },
      "source": [
        "#Test Data\n",
        "len(num_data1_test[num_data1_test['experience']==0])"
      ],
      "execution_count": null,
      "outputs": [
        {
          "output_type": "execute_result",
          "data": {
            "text/plain": [
              "1249"
            ]
          },
          "metadata": {
            "tags": []
          },
          "execution_count": 37
        }
      ]
    },
    {
      "cell_type": "markdown",
      "metadata": {
        "id": "ELPoX44uY_uJ"
      },
      "source": [
        "**Filling the values**"
      ]
    },
    {
      "cell_type": "code",
      "metadata": {
        "id": "R8VX6OVDMLqg"
      },
      "source": [
        "#Replacing the zero with null values \n",
        "num_data1[['experience','current_job_years']] = num_data1[['experience','current_job_years']].replace(0, np.nan)\n",
        "\n",
        "#Filling the null values with mean grouped by age\n",
        "num_data1[\"experience\"] = num_data1[['experience', 'age']].groupby(\"age\").transform(lambda x: x.fillna(np.round(x.mean())))\n",
        "num_data1[\"current_job_years\"] = num_data1[['current_job_years', 'age']].groupby(\"age\").transform(lambda x: x.fillna(np.round(x.mean())))"
      ],
      "execution_count": null,
      "outputs": []
    },
    {
      "cell_type": "code",
      "metadata": {
        "colab": {
          "base_uri": "https://localhost:8080/",
          "height": 204
        },
        "id": "pY3LS42OMU45",
        "outputId": "3ff4b22c-df2c-42de-cdc6-4a0bd1ad64a0"
      },
      "source": [
        "#Replacing the zero with null values \n",
        "num_data1_test[['experience','current_job_years']] = num_data1_test[['experience','current_job_years']].replace(0, np.nan)\n",
        "\n",
        "#Filling the null values with mean grouped by age\n",
        "num_data1_test[\"experience\"] = num_data1_test[['experience', 'age']].groupby(\"age\").transform(lambda x: x.fillna(np.round(x.mean())))\n",
        "num_data1_test[\"current_job_years\"] = num_data1_test[['current_job_years', 'age']].groupby(\"age\").transform(lambda x: x.fillna(np.round(x.mean())))\n",
        "\n",
        "num_data1.head()"
      ],
      "execution_count": null,
      "outputs": [
        {
          "output_type": "execute_result",
          "data": {
            "text/html": [
              "<div>\n",
              "<style scoped>\n",
              "    .dataframe tbody tr th:only-of-type {\n",
              "        vertical-align: middle;\n",
              "    }\n",
              "\n",
              "    .dataframe tbody tr th {\n",
              "        vertical-align: top;\n",
              "    }\n",
              "\n",
              "    .dataframe thead th {\n",
              "        text-align: right;\n",
              "    }\n",
              "</style>\n",
              "<table border=\"1\" class=\"dataframe\">\n",
              "  <thead>\n",
              "    <tr style=\"text-align: right;\">\n",
              "      <th></th>\n",
              "      <th>income</th>\n",
              "      <th>age</th>\n",
              "      <th>experience</th>\n",
              "      <th>current_job_years</th>\n",
              "      <th>current_house_years</th>\n",
              "    </tr>\n",
              "  </thead>\n",
              "  <tbody>\n",
              "    <tr>\n",
              "      <th>117955</th>\n",
              "      <td>6460018</td>\n",
              "      <td>75</td>\n",
              "      <td>11.0</td>\n",
              "      <td>7.0</td>\n",
              "      <td>14</td>\n",
              "    </tr>\n",
              "    <tr>\n",
              "      <th>89977</th>\n",
              "      <td>7134812</td>\n",
              "      <td>72</td>\n",
              "      <td>16.0</td>\n",
              "      <td>4.0</td>\n",
              "      <td>14</td>\n",
              "    </tr>\n",
              "    <tr>\n",
              "      <th>86851</th>\n",
              "      <td>8918340</td>\n",
              "      <td>28</td>\n",
              "      <td>13.0</td>\n",
              "      <td>10.0</td>\n",
              "      <td>14</td>\n",
              "    </tr>\n",
              "    <tr>\n",
              "      <th>225217</th>\n",
              "      <td>2499535</td>\n",
              "      <td>29</td>\n",
              "      <td>17.0</td>\n",
              "      <td>9.0</td>\n",
              "      <td>12</td>\n",
              "    </tr>\n",
              "    <tr>\n",
              "      <th>186118</th>\n",
              "      <td>270761</td>\n",
              "      <td>48</td>\n",
              "      <td>1.0</td>\n",
              "      <td>1.0</td>\n",
              "      <td>11</td>\n",
              "    </tr>\n",
              "  </tbody>\n",
              "</table>\n",
              "</div>"
            ],
            "text/plain": [
              "         income  age  experience  current_job_years  current_house_years\n",
              "117955  6460018   75        11.0                7.0                   14\n",
              "89977   7134812   72        16.0                4.0                   14\n",
              "86851   8918340   28        13.0               10.0                   14\n",
              "225217  2499535   29        17.0                9.0                   12\n",
              "186118   270761   48         1.0                1.0                   11"
            ]
          },
          "metadata": {
            "tags": []
          },
          "execution_count": 39
        }
      ]
    },
    {
      "cell_type": "markdown",
      "metadata": {
        "id": "L_yNf2a0qBOB"
      },
      "source": [
        "## Concatenion of the added features"
      ]
    },
    {
      "cell_type": "code",
      "metadata": {
        "id": "qO2gWnBle78u",
        "colab": {
          "base_uri": "https://localhost:8080/",
          "height": 241
        },
        "outputId": "8e0cc7b4-4bb5-4052-9b38-6cc8fe441c2e"
      },
      "source": [
        "train_data_added = pd.concat([num_data1, \n",
        "                     cat_data1,\n",
        "                     married_ohe, \n",
        "                     house_ohe, \n",
        "                     car_ohe], axis=1)\n",
        "\n",
        "print(train_data_added.shape)\n",
        "train_data_added.head()"
      ],
      "execution_count": null,
      "outputs": [
        {
          "output_type": "stream",
          "text": [
            "(252000, 15)\n"
          ],
          "name": "stdout"
        },
        {
          "output_type": "execute_result",
          "data": {
            "text/html": [
              "<div>\n",
              "<style scoped>\n",
              "    .dataframe tbody tr th:only-of-type {\n",
              "        vertical-align: middle;\n",
              "    }\n",
              "\n",
              "    .dataframe tbody tr th {\n",
              "        vertical-align: top;\n",
              "    }\n",
              "\n",
              "    .dataframe thead th {\n",
              "        text-align: right;\n",
              "    }\n",
              "</style>\n",
              "<table border=\"1\" class=\"dataframe\">\n",
              "  <thead>\n",
              "    <tr style=\"text-align: right;\">\n",
              "      <th></th>\n",
              "      <th>income</th>\n",
              "      <th>age</th>\n",
              "      <th>experience</th>\n",
              "      <th>current_job_years</th>\n",
              "      <th>current_house_years</th>\n",
              "      <th>response_state</th>\n",
              "      <th>response_city</th>\n",
              "      <th>response_prof</th>\n",
              "      <th>married</th>\n",
              "      <th>single</th>\n",
              "      <th>house_norent_noown</th>\n",
              "      <th>house_owned</th>\n",
              "      <th>house_rented</th>\n",
              "      <th>car_no</th>\n",
              "      <th>car_yes</th>\n",
              "    </tr>\n",
              "  </thead>\n",
              "  <tbody>\n",
              "    <tr>\n",
              "      <th>117955</th>\n",
              "      <td>6460018</td>\n",
              "      <td>75</td>\n",
              "      <td>11.0</td>\n",
              "      <td>7.0</td>\n",
              "      <td>14</td>\n",
              "      <td>0.167097</td>\n",
              "      <td>0.252862</td>\n",
              "      <td>0.124048</td>\n",
              "      <td>0</td>\n",
              "      <td>1</td>\n",
              "      <td>0</td>\n",
              "      <td>0</td>\n",
              "      <td>1</td>\n",
              "      <td>1</td>\n",
              "      <td>0</td>\n",
              "    </tr>\n",
              "    <tr>\n",
              "      <th>89977</th>\n",
              "      <td>7134812</td>\n",
              "      <td>72</td>\n",
              "      <td>16.0</td>\n",
              "      <td>4.0</td>\n",
              "      <td>14</td>\n",
              "      <td>0.128135</td>\n",
              "      <td>0.178122</td>\n",
              "      <td>0.115570</td>\n",
              "      <td>0</td>\n",
              "      <td>1</td>\n",
              "      <td>0</td>\n",
              "      <td>0</td>\n",
              "      <td>1</td>\n",
              "      <td>1</td>\n",
              "      <td>0</td>\n",
              "    </tr>\n",
              "    <tr>\n",
              "      <th>86851</th>\n",
              "      <td>8918340</td>\n",
              "      <td>28</td>\n",
              "      <td>13.0</td>\n",
              "      <td>10.0</td>\n",
              "      <td>14</td>\n",
              "      <td>0.113254</td>\n",
              "      <td>0.086370</td>\n",
              "      <td>0.135789</td>\n",
              "      <td>0</td>\n",
              "      <td>1</td>\n",
              "      <td>0</td>\n",
              "      <td>0</td>\n",
              "      <td>1</td>\n",
              "      <td>1</td>\n",
              "      <td>0</td>\n",
              "    </tr>\n",
              "    <tr>\n",
              "      <th>225217</th>\n",
              "      <td>2499535</td>\n",
              "      <td>29</td>\n",
              "      <td>17.0</td>\n",
              "      <td>9.0</td>\n",
              "      <td>12</td>\n",
              "      <td>0.140833</td>\n",
              "      <td>0.238452</td>\n",
              "      <td>0.135832</td>\n",
              "      <td>0</td>\n",
              "      <td>1</td>\n",
              "      <td>0</td>\n",
              "      <td>0</td>\n",
              "      <td>1</td>\n",
              "      <td>1</td>\n",
              "      <td>0</td>\n",
              "    </tr>\n",
              "    <tr>\n",
              "      <th>186118</th>\n",
              "      <td>270761</td>\n",
              "      <td>48</td>\n",
              "      <td>1.0</td>\n",
              "      <td>1.0</td>\n",
              "      <td>11</td>\n",
              "      <td>0.140833</td>\n",
              "      <td>0.138721</td>\n",
              "      <td>0.115385</td>\n",
              "      <td>0</td>\n",
              "      <td>1</td>\n",
              "      <td>0</td>\n",
              "      <td>0</td>\n",
              "      <td>1</td>\n",
              "      <td>1</td>\n",
              "      <td>0</td>\n",
              "    </tr>\n",
              "  </tbody>\n",
              "</table>\n",
              "</div>"
            ],
            "text/plain": [
              "         income  age  experience  ...  house_rented  car_no  car_yes\n",
              "117955  6460018   75        11.0  ...             1       1        0\n",
              "89977   7134812   72        16.0  ...             1       1        0\n",
              "86851   8918340   28        13.0  ...             1       1        0\n",
              "225217  2499535   29        17.0  ...             1       1        0\n",
              "186118   270761   48         1.0  ...             1       1        0\n",
              "\n",
              "[5 rows x 15 columns]"
            ]
          },
          "metadata": {
            "tags": []
          },
          "execution_count": 40
        }
      ]
    },
    {
      "cell_type": "code",
      "metadata": {
        "id": "T_Yqd7-j4Ioh",
        "colab": {
          "base_uri": "https://localhost:8080/",
          "height": 439
        },
        "outputId": "98ccc053-90b9-45be-e241-e0bb48ff40a9"
      },
      "source": [
        "xtrain = train_data_added\n",
        "xtrain"
      ],
      "execution_count": null,
      "outputs": [
        {
          "output_type": "execute_result",
          "data": {
            "text/html": [
              "<div>\n",
              "<style scoped>\n",
              "    .dataframe tbody tr th:only-of-type {\n",
              "        vertical-align: middle;\n",
              "    }\n",
              "\n",
              "    .dataframe tbody tr th {\n",
              "        vertical-align: top;\n",
              "    }\n",
              "\n",
              "    .dataframe thead th {\n",
              "        text-align: right;\n",
              "    }\n",
              "</style>\n",
              "<table border=\"1\" class=\"dataframe\">\n",
              "  <thead>\n",
              "    <tr style=\"text-align: right;\">\n",
              "      <th></th>\n",
              "      <th>income</th>\n",
              "      <th>age</th>\n",
              "      <th>experience</th>\n",
              "      <th>current_job_years</th>\n",
              "      <th>current_house_years</th>\n",
              "      <th>response_state</th>\n",
              "      <th>response_city</th>\n",
              "      <th>response_prof</th>\n",
              "      <th>married</th>\n",
              "      <th>single</th>\n",
              "      <th>house_norent_noown</th>\n",
              "      <th>house_owned</th>\n",
              "      <th>house_rented</th>\n",
              "      <th>car_no</th>\n",
              "      <th>car_yes</th>\n",
              "    </tr>\n",
              "  </thead>\n",
              "  <tbody>\n",
              "    <tr>\n",
              "      <th>117955</th>\n",
              "      <td>6460018</td>\n",
              "      <td>75</td>\n",
              "      <td>11.0</td>\n",
              "      <td>7.0</td>\n",
              "      <td>14</td>\n",
              "      <td>0.167097</td>\n",
              "      <td>0.252862</td>\n",
              "      <td>0.124048</td>\n",
              "      <td>0</td>\n",
              "      <td>1</td>\n",
              "      <td>0</td>\n",
              "      <td>0</td>\n",
              "      <td>1</td>\n",
              "      <td>1</td>\n",
              "      <td>0</td>\n",
              "    </tr>\n",
              "    <tr>\n",
              "      <th>89977</th>\n",
              "      <td>7134812</td>\n",
              "      <td>72</td>\n",
              "      <td>16.0</td>\n",
              "      <td>4.0</td>\n",
              "      <td>14</td>\n",
              "      <td>0.128135</td>\n",
              "      <td>0.178122</td>\n",
              "      <td>0.115570</td>\n",
              "      <td>0</td>\n",
              "      <td>1</td>\n",
              "      <td>0</td>\n",
              "      <td>0</td>\n",
              "      <td>1</td>\n",
              "      <td>1</td>\n",
              "      <td>0</td>\n",
              "    </tr>\n",
              "    <tr>\n",
              "      <th>86851</th>\n",
              "      <td>8918340</td>\n",
              "      <td>28</td>\n",
              "      <td>13.0</td>\n",
              "      <td>10.0</td>\n",
              "      <td>14</td>\n",
              "      <td>0.113254</td>\n",
              "      <td>0.086370</td>\n",
              "      <td>0.135789</td>\n",
              "      <td>0</td>\n",
              "      <td>1</td>\n",
              "      <td>0</td>\n",
              "      <td>0</td>\n",
              "      <td>1</td>\n",
              "      <td>1</td>\n",
              "      <td>0</td>\n",
              "    </tr>\n",
              "    <tr>\n",
              "      <th>225217</th>\n",
              "      <td>2499535</td>\n",
              "      <td>29</td>\n",
              "      <td>17.0</td>\n",
              "      <td>9.0</td>\n",
              "      <td>12</td>\n",
              "      <td>0.140833</td>\n",
              "      <td>0.238452</td>\n",
              "      <td>0.135832</td>\n",
              "      <td>0</td>\n",
              "      <td>1</td>\n",
              "      <td>0</td>\n",
              "      <td>0</td>\n",
              "      <td>1</td>\n",
              "      <td>1</td>\n",
              "      <td>0</td>\n",
              "    </tr>\n",
              "    <tr>\n",
              "      <th>186118</th>\n",
              "      <td>270761</td>\n",
              "      <td>48</td>\n",
              "      <td>1.0</td>\n",
              "      <td>1.0</td>\n",
              "      <td>11</td>\n",
              "      <td>0.140833</td>\n",
              "      <td>0.138721</td>\n",
              "      <td>0.115385</td>\n",
              "      <td>0</td>\n",
              "      <td>1</td>\n",
              "      <td>0</td>\n",
              "      <td>0</td>\n",
              "      <td>1</td>\n",
              "      <td>1</td>\n",
              "      <td>0</td>\n",
              "    </tr>\n",
              "    <tr>\n",
              "      <th>...</th>\n",
              "      <td>...</td>\n",
              "      <td>...</td>\n",
              "      <td>...</td>\n",
              "      <td>...</td>\n",
              "      <td>...</td>\n",
              "      <td>...</td>\n",
              "      <td>...</td>\n",
              "      <td>...</td>\n",
              "      <td>...</td>\n",
              "      <td>...</td>\n",
              "      <td>...</td>\n",
              "      <td>...</td>\n",
              "      <td>...</td>\n",
              "      <td>...</td>\n",
              "      <td>...</td>\n",
              "    </tr>\n",
              "    <tr>\n",
              "      <th>176963</th>\n",
              "      <td>9422918</td>\n",
              "      <td>77</td>\n",
              "      <td>11.0</td>\n",
              "      <td>9.0</td>\n",
              "      <td>13</td>\n",
              "      <td>0.113254</td>\n",
              "      <td>0.088623</td>\n",
              "      <td>0.130409</td>\n",
              "      <td>0</td>\n",
              "      <td>1</td>\n",
              "      <td>0</td>\n",
              "      <td>0</td>\n",
              "      <td>1</td>\n",
              "      <td>1</td>\n",
              "      <td>0</td>\n",
              "    </tr>\n",
              "    <tr>\n",
              "      <th>117952</th>\n",
              "      <td>7716196</td>\n",
              "      <td>27</td>\n",
              "      <td>5.0</td>\n",
              "      <td>5.0</td>\n",
              "      <td>14</td>\n",
              "      <td>0.104554</td>\n",
              "      <td>0.123522</td>\n",
              "      <td>0.111558</td>\n",
              "      <td>0</td>\n",
              "      <td>1</td>\n",
              "      <td>0</td>\n",
              "      <td>0</td>\n",
              "      <td>1</td>\n",
              "      <td>1</td>\n",
              "      <td>0</td>\n",
              "    </tr>\n",
              "    <tr>\n",
              "      <th>173685</th>\n",
              "      <td>2557871</td>\n",
              "      <td>55</td>\n",
              "      <td>14.0</td>\n",
              "      <td>3.0</td>\n",
              "      <td>12</td>\n",
              "      <td>0.131691</td>\n",
              "      <td>0.104016</td>\n",
              "      <td>0.127560</td>\n",
              "      <td>0</td>\n",
              "      <td>1</td>\n",
              "      <td>0</td>\n",
              "      <td>0</td>\n",
              "      <td>1</td>\n",
              "      <td>0</td>\n",
              "      <td>1</td>\n",
              "    </tr>\n",
              "    <tr>\n",
              "      <th>43567</th>\n",
              "      <td>8914067</td>\n",
              "      <td>77</td>\n",
              "      <td>18.0</td>\n",
              "      <td>10.0</td>\n",
              "      <td>11</td>\n",
              "      <td>0.104554</td>\n",
              "      <td>0.154362</td>\n",
              "      <td>0.099278</td>\n",
              "      <td>0</td>\n",
              "      <td>1</td>\n",
              "      <td>0</td>\n",
              "      <td>0</td>\n",
              "      <td>1</td>\n",
              "      <td>0</td>\n",
              "      <td>1</td>\n",
              "    </tr>\n",
              "    <tr>\n",
              "      <th>199340</th>\n",
              "      <td>6001312</td>\n",
              "      <td>70</td>\n",
              "      <td>4.0</td>\n",
              "      <td>4.0</td>\n",
              "      <td>11</td>\n",
              "      <td>0.215548</td>\n",
              "      <td>0.215548</td>\n",
              "      <td>0.115570</td>\n",
              "      <td>0</td>\n",
              "      <td>1</td>\n",
              "      <td>0</td>\n",
              "      <td>0</td>\n",
              "      <td>1</td>\n",
              "      <td>0</td>\n",
              "      <td>1</td>\n",
              "    </tr>\n",
              "  </tbody>\n",
              "</table>\n",
              "<p>252000 rows × 15 columns</p>\n",
              "</div>"
            ],
            "text/plain": [
              "         income  age  experience  ...  house_rented  car_no  car_yes\n",
              "117955  6460018   75        11.0  ...             1       1        0\n",
              "89977   7134812   72        16.0  ...             1       1        0\n",
              "86851   8918340   28        13.0  ...             1       1        0\n",
              "225217  2499535   29        17.0  ...             1       1        0\n",
              "186118   270761   48         1.0  ...             1       1        0\n",
              "...         ...  ...         ...  ...           ...     ...      ...\n",
              "176963  9422918   77        11.0  ...             1       1        0\n",
              "117952  7716196   27         5.0  ...             1       1        0\n",
              "173685  2557871   55        14.0  ...             1       0        1\n",
              "43567   8914067   77        18.0  ...             1       0        1\n",
              "199340  6001312   70         4.0  ...             1       0        1\n",
              "\n",
              "[252000 rows x 15 columns]"
            ]
          },
          "metadata": {
            "tags": []
          },
          "execution_count": 41
        }
      ]
    },
    {
      "cell_type": "code",
      "metadata": {
        "id": "HWOmidOv4RCO",
        "colab": {
          "base_uri": "https://localhost:8080/"
        },
        "outputId": "38a900a0-fbc3-46a4-9072-5599984aa6b6"
      },
      "source": [
        "ytrain=train_data[\"risk_flag\"]\n",
        "ytrain"
      ],
      "execution_count": null,
      "outputs": [
        {
          "output_type": "execute_result",
          "data": {
            "text/plain": [
              "117955    0\n",
              "89977     0\n",
              "86851     0\n",
              "225217    1\n",
              "186118    0\n",
              "         ..\n",
              "176963    1\n",
              "117952    1\n",
              "173685    0\n",
              "43567     0\n",
              "199340    0\n",
              "Name: risk_flag, Length: 252000, dtype: int64"
            ]
          },
          "metadata": {
            "tags": []
          },
          "execution_count": 42
        }
      ]
    },
    {
      "cell_type": "code",
      "metadata": {
        "colab": {
          "base_uri": "https://localhost:8080/",
          "height": 241
        },
        "id": "obrgUsDMqfoW",
        "outputId": "b187296f-c6c7-4b08-ba6b-4244e280dda2"
      },
      "source": [
        "test_data_added = pd.concat([num_data1_test, \n",
        "                    cat_data1_test,\n",
        "                    married_ohe_test, \n",
        "                    house_ohe_test, \n",
        "                    car_ohe_test], axis=1)\n",
        "\n",
        "print(test_data_added.shape)\n",
        "test_data_added.head()"
      ],
      "execution_count": null,
      "outputs": [
        {
          "output_type": "stream",
          "text": [
            "(28000, 15)\n"
          ],
          "name": "stdout"
        },
        {
          "output_type": "execute_result",
          "data": {
            "text/html": [
              "<div>\n",
              "<style scoped>\n",
              "    .dataframe tbody tr th:only-of-type {\n",
              "        vertical-align: middle;\n",
              "    }\n",
              "\n",
              "    .dataframe tbody tr th {\n",
              "        vertical-align: top;\n",
              "    }\n",
              "\n",
              "    .dataframe thead th {\n",
              "        text-align: right;\n",
              "    }\n",
              "</style>\n",
              "<table border=\"1\" class=\"dataframe\">\n",
              "  <thead>\n",
              "    <tr style=\"text-align: right;\">\n",
              "      <th></th>\n",
              "      <th>income</th>\n",
              "      <th>age</th>\n",
              "      <th>experience</th>\n",
              "      <th>current_job_years</th>\n",
              "      <th>current_house_years</th>\n",
              "      <th>response_state</th>\n",
              "      <th>response_city</th>\n",
              "      <th>response_prof</th>\n",
              "      <th>married</th>\n",
              "      <th>single</th>\n",
              "      <th>house_norent_noown</th>\n",
              "      <th>house_owned</th>\n",
              "      <th>house_rented</th>\n",
              "      <th>car_no</th>\n",
              "      <th>car_yes</th>\n",
              "    </tr>\n",
              "  </thead>\n",
              "  <tbody>\n",
              "    <tr>\n",
              "      <th>0</th>\n",
              "      <td>7393090</td>\n",
              "      <td>59</td>\n",
              "      <td>19.0</td>\n",
              "      <td>4.0</td>\n",
              "      <td>13</td>\n",
              "      <td>0.128135</td>\n",
              "      <td>0.112277</td>\n",
              "      <td>0.144264</td>\n",
              "      <td>0</td>\n",
              "      <td>1</td>\n",
              "      <td>0</td>\n",
              "      <td>0</td>\n",
              "      <td>1</td>\n",
              "      <td>1</td>\n",
              "      <td>0</td>\n",
              "    </tr>\n",
              "    <tr>\n",
              "      <th>1</th>\n",
              "      <td>1215004</td>\n",
              "      <td>25</td>\n",
              "      <td>5.0</td>\n",
              "      <td>5.0</td>\n",
              "      <td>10</td>\n",
              "      <td>0.113254</td>\n",
              "      <td>0.108449</td>\n",
              "      <td>0.135789</td>\n",
              "      <td>0</td>\n",
              "      <td>1</td>\n",
              "      <td>0</td>\n",
              "      <td>0</td>\n",
              "      <td>1</td>\n",
              "      <td>1</td>\n",
              "      <td>0</td>\n",
              "    </tr>\n",
              "    <tr>\n",
              "      <th>2</th>\n",
              "      <td>8901342</td>\n",
              "      <td>50</td>\n",
              "      <td>12.0</td>\n",
              "      <td>9.0</td>\n",
              "      <td>14</td>\n",
              "      <td>0.113254</td>\n",
              "      <td>0.072746</td>\n",
              "      <td>0.129514</td>\n",
              "      <td>0</td>\n",
              "      <td>1</td>\n",
              "      <td>0</td>\n",
              "      <td>0</td>\n",
              "      <td>1</td>\n",
              "      <td>1</td>\n",
              "      <td>0</td>\n",
              "    </tr>\n",
              "    <tr>\n",
              "      <th>3</th>\n",
              "      <td>1944421</td>\n",
              "      <td>49</td>\n",
              "      <td>9.0</td>\n",
              "      <td>3.0</td>\n",
              "      <td>12</td>\n",
              "      <td>0.113254</td>\n",
              "      <td>0.039655</td>\n",
              "      <td>0.121465</td>\n",
              "      <td>1</td>\n",
              "      <td>0</td>\n",
              "      <td>0</td>\n",
              "      <td>0</td>\n",
              "      <td>1</td>\n",
              "      <td>0</td>\n",
              "      <td>1</td>\n",
              "    </tr>\n",
              "    <tr>\n",
              "      <th>4</th>\n",
              "      <td>13429</td>\n",
              "      <td>25</td>\n",
              "      <td>18.0</td>\n",
              "      <td>13.0</td>\n",
              "      <td>11</td>\n",
              "      <td>0.128135</td>\n",
              "      <td>0.148101</td>\n",
              "      <td>0.119604</td>\n",
              "      <td>0</td>\n",
              "      <td>1</td>\n",
              "      <td>0</td>\n",
              "      <td>0</td>\n",
              "      <td>1</td>\n",
              "      <td>0</td>\n",
              "      <td>1</td>\n",
              "    </tr>\n",
              "  </tbody>\n",
              "</table>\n",
              "</div>"
            ],
            "text/plain": [
              "    income  age  experience  ...  house_rented  car_no  car_yes\n",
              "0  7393090   59        19.0  ...             1       1        0\n",
              "1  1215004   25         5.0  ...             1       1        0\n",
              "2  8901342   50        12.0  ...             1       1        0\n",
              "3  1944421   49         9.0  ...             1       0        1\n",
              "4    13429   25        18.0  ...             1       0        1\n",
              "\n",
              "[5 rows x 15 columns]"
            ]
          },
          "metadata": {
            "tags": []
          },
          "execution_count": 43
        }
      ]
    },
    {
      "cell_type": "code",
      "metadata": {
        "colab": {
          "base_uri": "https://localhost:8080/",
          "height": 439
        },
        "id": "PxPPfhAEq9bF",
        "outputId": "cdda01b6-fdb6-4f9a-e8fc-adba89c9e933"
      },
      "source": [
        "xtest = test_data_added\n",
        "xtest"
      ],
      "execution_count": null,
      "outputs": [
        {
          "output_type": "execute_result",
          "data": {
            "text/html": [
              "<div>\n",
              "<style scoped>\n",
              "    .dataframe tbody tr th:only-of-type {\n",
              "        vertical-align: middle;\n",
              "    }\n",
              "\n",
              "    .dataframe tbody tr th {\n",
              "        vertical-align: top;\n",
              "    }\n",
              "\n",
              "    .dataframe thead th {\n",
              "        text-align: right;\n",
              "    }\n",
              "</style>\n",
              "<table border=\"1\" class=\"dataframe\">\n",
              "  <thead>\n",
              "    <tr style=\"text-align: right;\">\n",
              "      <th></th>\n",
              "      <th>income</th>\n",
              "      <th>age</th>\n",
              "      <th>experience</th>\n",
              "      <th>current_job_years</th>\n",
              "      <th>current_house_years</th>\n",
              "      <th>response_state</th>\n",
              "      <th>response_city</th>\n",
              "      <th>response_prof</th>\n",
              "      <th>married</th>\n",
              "      <th>single</th>\n",
              "      <th>house_norent_noown</th>\n",
              "      <th>house_owned</th>\n",
              "      <th>house_rented</th>\n",
              "      <th>car_no</th>\n",
              "      <th>car_yes</th>\n",
              "    </tr>\n",
              "  </thead>\n",
              "  <tbody>\n",
              "    <tr>\n",
              "      <th>0</th>\n",
              "      <td>7393090</td>\n",
              "      <td>59</td>\n",
              "      <td>19.0</td>\n",
              "      <td>4.0</td>\n",
              "      <td>13</td>\n",
              "      <td>0.128135</td>\n",
              "      <td>0.112277</td>\n",
              "      <td>0.144264</td>\n",
              "      <td>0</td>\n",
              "      <td>1</td>\n",
              "      <td>0</td>\n",
              "      <td>0</td>\n",
              "      <td>1</td>\n",
              "      <td>1</td>\n",
              "      <td>0</td>\n",
              "    </tr>\n",
              "    <tr>\n",
              "      <th>1</th>\n",
              "      <td>1215004</td>\n",
              "      <td>25</td>\n",
              "      <td>5.0</td>\n",
              "      <td>5.0</td>\n",
              "      <td>10</td>\n",
              "      <td>0.113254</td>\n",
              "      <td>0.108449</td>\n",
              "      <td>0.135789</td>\n",
              "      <td>0</td>\n",
              "      <td>1</td>\n",
              "      <td>0</td>\n",
              "      <td>0</td>\n",
              "      <td>1</td>\n",
              "      <td>1</td>\n",
              "      <td>0</td>\n",
              "    </tr>\n",
              "    <tr>\n",
              "      <th>2</th>\n",
              "      <td>8901342</td>\n",
              "      <td>50</td>\n",
              "      <td>12.0</td>\n",
              "      <td>9.0</td>\n",
              "      <td>14</td>\n",
              "      <td>0.113254</td>\n",
              "      <td>0.072746</td>\n",
              "      <td>0.129514</td>\n",
              "      <td>0</td>\n",
              "      <td>1</td>\n",
              "      <td>0</td>\n",
              "      <td>0</td>\n",
              "      <td>1</td>\n",
              "      <td>1</td>\n",
              "      <td>0</td>\n",
              "    </tr>\n",
              "    <tr>\n",
              "      <th>3</th>\n",
              "      <td>1944421</td>\n",
              "      <td>49</td>\n",
              "      <td>9.0</td>\n",
              "      <td>3.0</td>\n",
              "      <td>12</td>\n",
              "      <td>0.113254</td>\n",
              "      <td>0.039655</td>\n",
              "      <td>0.121465</td>\n",
              "      <td>1</td>\n",
              "      <td>0</td>\n",
              "      <td>0</td>\n",
              "      <td>0</td>\n",
              "      <td>1</td>\n",
              "      <td>0</td>\n",
              "      <td>1</td>\n",
              "    </tr>\n",
              "    <tr>\n",
              "      <th>4</th>\n",
              "      <td>13429</td>\n",
              "      <td>25</td>\n",
              "      <td>18.0</td>\n",
              "      <td>13.0</td>\n",
              "      <td>11</td>\n",
              "      <td>0.128135</td>\n",
              "      <td>0.148101</td>\n",
              "      <td>0.119604</td>\n",
              "      <td>0</td>\n",
              "      <td>1</td>\n",
              "      <td>0</td>\n",
              "      <td>0</td>\n",
              "      <td>1</td>\n",
              "      <td>0</td>\n",
              "      <td>1</td>\n",
              "    </tr>\n",
              "    <tr>\n",
              "      <th>...</th>\n",
              "      <td>...</td>\n",
              "      <td>...</td>\n",
              "      <td>...</td>\n",
              "      <td>...</td>\n",
              "      <td>...</td>\n",
              "      <td>...</td>\n",
              "      <td>...</td>\n",
              "      <td>...</td>\n",
              "      <td>...</td>\n",
              "      <td>...</td>\n",
              "      <td>...</td>\n",
              "      <td>...</td>\n",
              "      <td>...</td>\n",
              "      <td>...</td>\n",
              "      <td>...</td>\n",
              "    </tr>\n",
              "    <tr>\n",
              "      <th>27995</th>\n",
              "      <td>9955481</td>\n",
              "      <td>57</td>\n",
              "      <td>13.0</td>\n",
              "      <td>5.0</td>\n",
              "      <td>10</td>\n",
              "      <td>0.116022</td>\n",
              "      <td>0.064309</td>\n",
              "      <td>0.115570</td>\n",
              "      <td>0</td>\n",
              "      <td>1</td>\n",
              "      <td>0</td>\n",
              "      <td>0</td>\n",
              "      <td>1</td>\n",
              "      <td>1</td>\n",
              "      <td>0</td>\n",
              "    </tr>\n",
              "    <tr>\n",
              "      <th>27996</th>\n",
              "      <td>2917765</td>\n",
              "      <td>47</td>\n",
              "      <td>9.0</td>\n",
              "      <td>9.0</td>\n",
              "      <td>14</td>\n",
              "      <td>0.154369</td>\n",
              "      <td>0.191964</td>\n",
              "      <td>0.134167</td>\n",
              "      <td>0</td>\n",
              "      <td>1</td>\n",
              "      <td>0</td>\n",
              "      <td>0</td>\n",
              "      <td>1</td>\n",
              "      <td>1</td>\n",
              "      <td>0</td>\n",
              "    </tr>\n",
              "    <tr>\n",
              "      <th>27997</th>\n",
              "      <td>8082415</td>\n",
              "      <td>24</td>\n",
              "      <td>5.0</td>\n",
              "      <td>4.0</td>\n",
              "      <td>13</td>\n",
              "      <td>0.113254</td>\n",
              "      <td>0.038627</td>\n",
              "      <td>0.129514</td>\n",
              "      <td>0</td>\n",
              "      <td>1</td>\n",
              "      <td>0</td>\n",
              "      <td>0</td>\n",
              "      <td>1</td>\n",
              "      <td>1</td>\n",
              "      <td>0</td>\n",
              "    </tr>\n",
              "    <tr>\n",
              "      <th>27998</th>\n",
              "      <td>9474180</td>\n",
              "      <td>51</td>\n",
              "      <td>13.0</td>\n",
              "      <td>13.0</td>\n",
              "      <td>14</td>\n",
              "      <td>0.133281</td>\n",
              "      <td>0.141583</td>\n",
              "      <td>0.153572</td>\n",
              "      <td>0</td>\n",
              "      <td>1</td>\n",
              "      <td>0</td>\n",
              "      <td>0</td>\n",
              "      <td>1</td>\n",
              "      <td>0</td>\n",
              "      <td>1</td>\n",
              "    </tr>\n",
              "    <tr>\n",
              "      <th>27999</th>\n",
              "      <td>9250350</td>\n",
              "      <td>42</td>\n",
              "      <td>9.0</td>\n",
              "      <td>4.0</td>\n",
              "      <td>10</td>\n",
              "      <td>0.113254</td>\n",
              "      <td>0.133764</td>\n",
              "      <td>0.121467</td>\n",
              "      <td>0</td>\n",
              "      <td>1</td>\n",
              "      <td>0</td>\n",
              "      <td>0</td>\n",
              "      <td>1</td>\n",
              "      <td>1</td>\n",
              "      <td>0</td>\n",
              "    </tr>\n",
              "  </tbody>\n",
              "</table>\n",
              "<p>28000 rows × 15 columns</p>\n",
              "</div>"
            ],
            "text/plain": [
              "        income  age  experience  ...  house_rented  car_no  car_yes\n",
              "0      7393090   59        19.0  ...             1       1        0\n",
              "1      1215004   25         5.0  ...             1       1        0\n",
              "2      8901342   50        12.0  ...             1       1        0\n",
              "3      1944421   49         9.0  ...             1       0        1\n",
              "4        13429   25        18.0  ...             1       0        1\n",
              "...        ...  ...         ...  ...           ...     ...      ...\n",
              "27995  9955481   57        13.0  ...             1       1        0\n",
              "27996  2917765   47         9.0  ...             1       1        0\n",
              "27997  8082415   24         5.0  ...             1       1        0\n",
              "27998  9474180   51        13.0  ...             1       0        1\n",
              "27999  9250350   42         9.0  ...             1       1        0\n",
              "\n",
              "[28000 rows x 15 columns]"
            ]
          },
          "metadata": {
            "tags": []
          },
          "execution_count": 44
        }
      ]
    },
    {
      "cell_type": "code",
      "metadata": {
        "id": "ymMNI4yh5ugf",
        "colab": {
          "base_uri": "https://localhost:8080/"
        },
        "outputId": "833fa68c-8bd3-4503-b5f4-8a0298bce2bf"
      },
      "source": [
        "from sklearn.model_selection import train_test_split\n",
        "\n",
        "X_train, X_test, y_train, y_test = train_test_split(xtrain, ytrain, test_size = 0.2, random_state = 42)\n",
        "\n",
        "print(X_train.shape)\n",
        "print(X_test.shape)\n",
        "print(y_train.shape)\n",
        "print(y_test.shape)"
      ],
      "execution_count": null,
      "outputs": [
        {
          "output_type": "stream",
          "text": [
            "(201600, 15)\n",
            "(50400, 15)\n",
            "(201600,)\n",
            "(50400,)\n"
          ],
          "name": "stdout"
        }
      ]
    },
    {
      "cell_type": "code",
      "metadata": {
        "id": "HFYCvTwBpOiW"
      },
      "source": [
        "y_train = np.array(y_train).reshape((-1, ))\n",
        "y_test = np.array(y_test).reshape((-1, ))"
      ],
      "execution_count": null,
      "outputs": []
    },
    {
      "cell_type": "code",
      "metadata": {
        "id": "XC3QFxCI6xEa"
      },
      "source": [
        "X_train\n",
        "from sklearn.preprocessing import StandardScaler\n",
        "# sc = StandardScaler()\n",
        "# X_train = sc.fit_transform(X_train)\n",
        "# X_test = sc.transform(X_test)"
      ],
      "execution_count": null,
      "outputs": []
    },
    {
      "cell_type": "code",
      "metadata": {
        "id": "_pCmRFU4654e",
        "colab": {
          "base_uri": "https://localhost:8080/",
          "height": 439
        },
        "outputId": "2c7b20ef-518f-414a-af2d-e584c4085a3e"
      },
      "source": [
        "X_test\n"
      ],
      "execution_count": null,
      "outputs": [
        {
          "output_type": "execute_result",
          "data": {
            "text/html": [
              "<div>\n",
              "<style scoped>\n",
              "    .dataframe tbody tr th:only-of-type {\n",
              "        vertical-align: middle;\n",
              "    }\n",
              "\n",
              "    .dataframe tbody tr th {\n",
              "        vertical-align: top;\n",
              "    }\n",
              "\n",
              "    .dataframe thead th {\n",
              "        text-align: right;\n",
              "    }\n",
              "</style>\n",
              "<table border=\"1\" class=\"dataframe\">\n",
              "  <thead>\n",
              "    <tr style=\"text-align: right;\">\n",
              "      <th></th>\n",
              "      <th>income</th>\n",
              "      <th>age</th>\n",
              "      <th>experience</th>\n",
              "      <th>current_job_years</th>\n",
              "      <th>current_house_years</th>\n",
              "      <th>response_state</th>\n",
              "      <th>response_city</th>\n",
              "      <th>response_prof</th>\n",
              "      <th>married</th>\n",
              "      <th>single</th>\n",
              "      <th>house_norent_noown</th>\n",
              "      <th>house_owned</th>\n",
              "      <th>house_rented</th>\n",
              "      <th>car_no</th>\n",
              "      <th>car_yes</th>\n",
              "    </tr>\n",
              "  </thead>\n",
              "  <tbody>\n",
              "    <tr>\n",
              "      <th>219157</th>\n",
              "      <td>8396492</td>\n",
              "      <td>33</td>\n",
              "      <td>1.0</td>\n",
              "      <td>1.0</td>\n",
              "      <td>11</td>\n",
              "      <td>0.100295</td>\n",
              "      <td>0.113580</td>\n",
              "      <td>0.099278</td>\n",
              "      <td>0</td>\n",
              "      <td>1</td>\n",
              "      <td>0</td>\n",
              "      <td>0</td>\n",
              "      <td>1</td>\n",
              "      <td>0</td>\n",
              "      <td>1</td>\n",
              "    </tr>\n",
              "    <tr>\n",
              "      <th>215236</th>\n",
              "      <td>8098496</td>\n",
              "      <td>77</td>\n",
              "      <td>15.0</td>\n",
              "      <td>11.0</td>\n",
              "      <td>10</td>\n",
              "      <td>0.131691</td>\n",
              "      <td>0.156174</td>\n",
              "      <td>0.152113</td>\n",
              "      <td>0</td>\n",
              "      <td>1</td>\n",
              "      <td>0</td>\n",
              "      <td>0</td>\n",
              "      <td>1</td>\n",
              "      <td>1</td>\n",
              "      <td>0</td>\n",
              "    </tr>\n",
              "    <tr>\n",
              "      <th>123007</th>\n",
              "      <td>5282884</td>\n",
              "      <td>72</td>\n",
              "      <td>3.0</td>\n",
              "      <td>3.0</td>\n",
              "      <td>10</td>\n",
              "      <td>0.130586</td>\n",
              "      <td>0.204651</td>\n",
              "      <td>0.112257</td>\n",
              "      <td>0</td>\n",
              "      <td>1</td>\n",
              "      <td>0</td>\n",
              "      <td>0</td>\n",
              "      <td>1</td>\n",
              "      <td>1</td>\n",
              "      <td>0</td>\n",
              "    </tr>\n",
              "    <tr>\n",
              "      <th>142711</th>\n",
              "      <td>9932138</td>\n",
              "      <td>45</td>\n",
              "      <td>19.0</td>\n",
              "      <td>9.0</td>\n",
              "      <td>14</td>\n",
              "      <td>0.116022</td>\n",
              "      <td>0.125427</td>\n",
              "      <td>0.135796</td>\n",
              "      <td>0</td>\n",
              "      <td>1</td>\n",
              "      <td>0</td>\n",
              "      <td>0</td>\n",
              "      <td>1</td>\n",
              "      <td>1</td>\n",
              "      <td>0</td>\n",
              "    </tr>\n",
              "    <tr>\n",
              "      <th>136014</th>\n",
              "      <td>3657551</td>\n",
              "      <td>27</td>\n",
              "      <td>7.0</td>\n",
              "      <td>7.0</td>\n",
              "      <td>10</td>\n",
              "      <td>0.167097</td>\n",
              "      <td>0.203333</td>\n",
              "      <td>0.127560</td>\n",
              "      <td>0</td>\n",
              "      <td>1</td>\n",
              "      <td>0</td>\n",
              "      <td>0</td>\n",
              "      <td>1</td>\n",
              "      <td>1</td>\n",
              "      <td>0</td>\n",
              "    </tr>\n",
              "    <tr>\n",
              "      <th>...</th>\n",
              "      <td>...</td>\n",
              "      <td>...</td>\n",
              "      <td>...</td>\n",
              "      <td>...</td>\n",
              "      <td>...</td>\n",
              "      <td>...</td>\n",
              "      <td>...</td>\n",
              "      <td>...</td>\n",
              "      <td>...</td>\n",
              "      <td>...</td>\n",
              "      <td>...</td>\n",
              "      <td>...</td>\n",
              "      <td>...</td>\n",
              "      <td>...</td>\n",
              "      <td>...</td>\n",
              "    </tr>\n",
              "    <tr>\n",
              "      <th>240499</th>\n",
              "      <td>7446831</td>\n",
              "      <td>43</td>\n",
              "      <td>18.0</td>\n",
              "      <td>8.0</td>\n",
              "      <td>12</td>\n",
              "      <td>0.128135</td>\n",
              "      <td>0.087413</td>\n",
              "      <td>0.098667</td>\n",
              "      <td>0</td>\n",
              "      <td>1</td>\n",
              "      <td>0</td>\n",
              "      <td>0</td>\n",
              "      <td>1</td>\n",
              "      <td>1</td>\n",
              "      <td>0</td>\n",
              "    </tr>\n",
              "    <tr>\n",
              "      <th>111237</th>\n",
              "      <td>3879880</td>\n",
              "      <td>49</td>\n",
              "      <td>10.0</td>\n",
              "      <td>10.0</td>\n",
              "      <td>12</td>\n",
              "      <td>0.118039</td>\n",
              "      <td>0.062944</td>\n",
              "      <td>0.112257</td>\n",
              "      <td>0</td>\n",
              "      <td>1</td>\n",
              "      <td>0</td>\n",
              "      <td>0</td>\n",
              "      <td>1</td>\n",
              "      <td>1</td>\n",
              "      <td>0</td>\n",
              "    </tr>\n",
              "    <tr>\n",
              "      <th>233057</th>\n",
              "      <td>8715733</td>\n",
              "      <td>73</td>\n",
              "      <td>13.0</td>\n",
              "      <td>11.0</td>\n",
              "      <td>14</td>\n",
              "      <td>0.128135</td>\n",
              "      <td>0.183594</td>\n",
              "      <td>0.128289</td>\n",
              "      <td>0</td>\n",
              "      <td>1</td>\n",
              "      <td>0</td>\n",
              "      <td>0</td>\n",
              "      <td>1</td>\n",
              "      <td>0</td>\n",
              "      <td>1</td>\n",
              "    </tr>\n",
              "    <tr>\n",
              "      <th>87888</th>\n",
              "      <td>9777389</td>\n",
              "      <td>29</td>\n",
              "      <td>9.0</td>\n",
              "      <td>9.0</td>\n",
              "      <td>14</td>\n",
              "      <td>0.128135</td>\n",
              "      <td>0.116737</td>\n",
              "      <td>0.119604</td>\n",
              "      <td>0</td>\n",
              "      <td>1</td>\n",
              "      <td>0</td>\n",
              "      <td>1</td>\n",
              "      <td>0</td>\n",
              "      <td>1</td>\n",
              "      <td>0</td>\n",
              "    </tr>\n",
              "    <tr>\n",
              "      <th>51075</th>\n",
              "      <td>4749978</td>\n",
              "      <td>65</td>\n",
              "      <td>6.0</td>\n",
              "      <td>4.0</td>\n",
              "      <td>11</td>\n",
              "      <td>0.116022</td>\n",
              "      <td>0.165552</td>\n",
              "      <td>0.081486</td>\n",
              "      <td>0</td>\n",
              "      <td>1</td>\n",
              "      <td>0</td>\n",
              "      <td>1</td>\n",
              "      <td>0</td>\n",
              "      <td>1</td>\n",
              "      <td>0</td>\n",
              "    </tr>\n",
              "  </tbody>\n",
              "</table>\n",
              "<p>50400 rows × 15 columns</p>\n",
              "</div>"
            ],
            "text/plain": [
              "         income  age  experience  ...  house_rented  car_no  car_yes\n",
              "219157  8396492   33         1.0  ...             1       0        1\n",
              "215236  8098496   77        15.0  ...             1       1        0\n",
              "123007  5282884   72         3.0  ...             1       1        0\n",
              "142711  9932138   45        19.0  ...             1       1        0\n",
              "136014  3657551   27         7.0  ...             1       1        0\n",
              "...         ...  ...         ...  ...           ...     ...      ...\n",
              "240499  7446831   43        18.0  ...             1       1        0\n",
              "111237  3879880   49        10.0  ...             1       1        0\n",
              "233057  8715733   73        13.0  ...             1       0        1\n",
              "87888   9777389   29         9.0  ...             0       1        0\n",
              "51075   4749978   65         6.0  ...             0       1        0\n",
              "\n",
              "[50400 rows x 15 columns]"
            ]
          },
          "metadata": {
            "tags": []
          },
          "execution_count": 48
        }
      ]
    },
    {
      "cell_type": "code",
      "metadata": {
        "id": "1hyEnZ8i67Pt"
      },
      "source": [
        "# Function to calculate mean absolute error\n",
        "def cross_val(X_train, y_train, model):\n",
        "    # Applying k-Fold Cross Validation\n",
        "    from sklearn.model_selection import cross_val_score\n",
        "    accuracies = cross_val_score(estimator = model, X = X_train, y = y_train, cv = 5)\n",
        "    return accuracies.mean()\n",
        "\n",
        "# Takes in a model, trains the model, and evaluates the model on the test set\n",
        "def fit_and_evaluate(model):\n",
        "    \n",
        "    # Train the model\n",
        "    model.fit(X_train, y_train)\n",
        "    \n",
        "    # Make predictions and evalute\n",
        "    model_pred = model.predict(X_test)\n",
        "    model_cross = cross_val(X_train, y_train, model)\n",
        "    \n",
        "    # Return the performance metric\n",
        "    return model_cross"
      ],
      "execution_count": null,
      "outputs": []
    },
    {
      "cell_type": "code",
      "metadata": {
        "id": "2egncnhu7AHY"
      },
      "source": [
        "# # # Naive Bayes\n",
        "# from sklearn.naive_bayes import GaussianNB\n",
        "# naive = GaussianNB()\n",
        "# naive_cross = fit_and_evaluate(naive)\n",
        "\n",
        "# print('Naive Bayes Performance on the test set: Cross Validation Score = %0.4f' % naive_cross)\n"
      ],
      "execution_count": null,
      "outputs": []
    },
    {
      "cell_type": "code",
      "metadata": {
        "colab": {
          "base_uri": "https://localhost:8080/"
        },
        "id": "qPejK6hy7F5h",
        "outputId": "f9ad2f81-6d32-4224-b53d-4139365b3395"
      },
      "source": [
        "# # Random Forest Classification\n",
        "from sklearn.ensemble import RandomForestClassifier\n",
        "random = RandomForestClassifier(n_estimators = 10, criterion = 'entropy')\n",
        "random_cross = fit_and_evaluate(random)\n",
        "\n",
        "print('Random Forest Performance on the test set: Cross Validation Score = %0.4f' % random_cross)"
      ],
      "execution_count": null,
      "outputs": [
        {
          "output_type": "stream",
          "text": [
            "Random Forest Performance on the test set: Cross Validation Score = 0.8982\n"
          ],
          "name": "stdout"
        }
      ]
    },
    {
      "cell_type": "code",
      "metadata": {
        "colab": {
          "base_uri": "https://localhost:8080/"
        },
        "id": "mdng0-7a7I-0",
        "outputId": "4221050f-a653-4da1-babe-179d874d5be5"
      },
      "source": [
        "# # Gradient Boosting Classification\n",
        "from xgboost import XGBClassifier\n",
        "gb = XGBClassifier()\n",
        "gb_cross = fit_and_evaluate(gb)\n",
        "\n",
        "print('Gradiente Boosting Classification Performance on the test set: Cross Validation Score = %0.4f' % gb_cross)"
      ],
      "execution_count": null,
      "outputs": [
        {
          "output_type": "stream",
          "text": [
            "Gradiente Boosting Classification Performance on the test set: Cross Validation Score = 0.8770\n"
          ],
          "name": "stdout"
        }
      ]
    },
    {
      "cell_type": "code",
      "metadata": {
        "colab": {
          "base_uri": "https://localhost:8080/"
        },
        "id": "57a7JhBs7bAM",
        "outputId": "98458e95-7501-4cc3-9e35-376ee15a4bc5"
      },
      "source": [
        "from sklearn.tree import DecisionTreeClassifier\n",
        "DTClassifier= DecisionTreeClassifier(criterion='entropy', random_state=0)\n",
        "DTC_cross = fit_and_evaluate(DTClassifier)\n",
        "\n",
        "print('DT Classification Performance on the test set: Cross Validation Score = %0.4f' % DTC_cross)"
      ],
      "execution_count": null,
      "outputs": [
        {
          "output_type": "stream",
          "text": [
            "DT Classification Performance on the test set: Cross Validation Score = 0.8820\n"
          ],
          "name": "stdout"
        }
      ]
    },
    {
      "cell_type": "code",
      "metadata": {
        "id": "saK3lbfCbEou"
      },
      "source": [
        "y_pred_dt = DTClassifier.predict(xtest)"
      ],
      "execution_count": null,
      "outputs": []
    },
    {
      "cell_type": "code",
      "metadata": {
        "id": "a1_YyuZXbMDr",
        "colab": {
          "base_uri": "https://localhost:8080/"
        },
        "outputId": "d83dc9c1-b3cf-4ded-abd3-86caa2d90ad8"
      },
      "source": [
        "y_pred_dt.mean()"
      ],
      "execution_count": null,
      "outputs": [
        {
          "output_type": "execute_result",
          "data": {
            "text/plain": [
              "0.13278571428571428"
            ]
          },
          "metadata": {
            "tags": []
          },
          "execution_count": 55
        }
      ]
    },
    {
      "cell_type": "code",
      "metadata": {
        "id": "XlcUFVX76fPJ",
        "colab": {
          "base_uri": "https://localhost:8080/"
        },
        "outputId": "8fdfc253-fd98-4721-cd7b-fa8c842e1d71"
      },
      "source": [
        "y_pred_dt"
      ],
      "execution_count": null,
      "outputs": [
        {
          "output_type": "execute_result",
          "data": {
            "text/plain": [
              "array([0, 0, 0, ..., 0, 0, 0])"
            ]
          },
          "metadata": {
            "tags": []
          },
          "execution_count": 56
        }
      ]
    },
    {
      "cell_type": "code",
      "metadata": {
        "id": "DNDOSLwZNr22"
      },
      "source": [
        "y_pred_r = random.predict(xtest)"
      ],
      "execution_count": null,
      "outputs": []
    },
    {
      "cell_type": "code",
      "metadata": {
        "id": "Zld5SkzOHafd",
        "colab": {
          "base_uri": "https://localhost:8080/"
        },
        "outputId": "44b57616-d5b2-43da-c517-f828c011d4a2"
      },
      "source": [
        "y_pred_r.mean()"
      ],
      "execution_count": null,
      "outputs": [
        {
          "output_type": "execute_result",
          "data": {
            "text/plain": [
              "0.11107142857142857"
            ]
          },
          "metadata": {
            "tags": []
          },
          "execution_count": 58
        }
      ]
    },
    {
      "cell_type": "code",
      "metadata": {
        "id": "x4hJh0grIE6W"
      },
      "source": [
        "## y_pred_xg = gb.predict(xtest)"
      ],
      "execution_count": null,
      "outputs": []
    },
    {
      "cell_type": "code",
      "metadata": {
        "id": "IAjsalmqIVOt"
      },
      "source": [
        " #y_pred_xg.mean()"
      ],
      "execution_count": null,
      "outputs": []
    },
    {
      "cell_type": "code",
      "metadata": {
        "id": "ad47vfy98EVM",
        "colab": {
          "base_uri": "https://localhost:8080/",
          "height": 419
        },
        "outputId": "b17d8d75-5ecb-438b-9c26-659c9c912a4f"
      },
      "source": [
        "columns_new = [\"risk_flag\"]\n",
        "\n",
        "mydf = pd.DataFrame(y_pred_r, columns = columns_new)\n",
        "mydf[\"id\"] = mydf.index+1\n",
        "mydf"
      ],
      "execution_count": null,
      "outputs": [
        {
          "output_type": "execute_result",
          "data": {
            "text/html": [
              "<div>\n",
              "<style scoped>\n",
              "    .dataframe tbody tr th:only-of-type {\n",
              "        vertical-align: middle;\n",
              "    }\n",
              "\n",
              "    .dataframe tbody tr th {\n",
              "        vertical-align: top;\n",
              "    }\n",
              "\n",
              "    .dataframe thead th {\n",
              "        text-align: right;\n",
              "    }\n",
              "</style>\n",
              "<table border=\"1\" class=\"dataframe\">\n",
              "  <thead>\n",
              "    <tr style=\"text-align: right;\">\n",
              "      <th></th>\n",
              "      <th>risk_flag</th>\n",
              "      <th>id</th>\n",
              "    </tr>\n",
              "  </thead>\n",
              "  <tbody>\n",
              "    <tr>\n",
              "      <th>0</th>\n",
              "      <td>0</td>\n",
              "      <td>1</td>\n",
              "    </tr>\n",
              "    <tr>\n",
              "      <th>1</th>\n",
              "      <td>0</td>\n",
              "      <td>2</td>\n",
              "    </tr>\n",
              "    <tr>\n",
              "      <th>2</th>\n",
              "      <td>0</td>\n",
              "      <td>3</td>\n",
              "    </tr>\n",
              "    <tr>\n",
              "      <th>3</th>\n",
              "      <td>0</td>\n",
              "      <td>4</td>\n",
              "    </tr>\n",
              "    <tr>\n",
              "      <th>4</th>\n",
              "      <td>0</td>\n",
              "      <td>5</td>\n",
              "    </tr>\n",
              "    <tr>\n",
              "      <th>...</th>\n",
              "      <td>...</td>\n",
              "      <td>...</td>\n",
              "    </tr>\n",
              "    <tr>\n",
              "      <th>27995</th>\n",
              "      <td>0</td>\n",
              "      <td>27996</td>\n",
              "    </tr>\n",
              "    <tr>\n",
              "      <th>27996</th>\n",
              "      <td>0</td>\n",
              "      <td>27997</td>\n",
              "    </tr>\n",
              "    <tr>\n",
              "      <th>27997</th>\n",
              "      <td>0</td>\n",
              "      <td>27998</td>\n",
              "    </tr>\n",
              "    <tr>\n",
              "      <th>27998</th>\n",
              "      <td>0</td>\n",
              "      <td>27999</td>\n",
              "    </tr>\n",
              "    <tr>\n",
              "      <th>27999</th>\n",
              "      <td>0</td>\n",
              "      <td>28000</td>\n",
              "    </tr>\n",
              "  </tbody>\n",
              "</table>\n",
              "<p>28000 rows × 2 columns</p>\n",
              "</div>"
            ],
            "text/plain": [
              "       risk_flag     id\n",
              "0              0      1\n",
              "1              0      2\n",
              "2              0      3\n",
              "3              0      4\n",
              "4              0      5\n",
              "...          ...    ...\n",
              "27995          0  27996\n",
              "27996          0  27997\n",
              "27997          0  27998\n",
              "27998          0  27999\n",
              "27999          0  28000\n",
              "\n",
              "[28000 rows x 2 columns]"
            ]
          },
          "metadata": {
            "tags": []
          },
          "execution_count": 61
        }
      ]
    },
    {
      "cell_type": "code",
      "metadata": {
        "id": "_217EGJV-ioW",
        "colab": {
          "base_uri": "https://localhost:8080/",
          "height": 419
        },
        "outputId": "26b07b43-f602-4405-e565-b9416e2ce3b0"
      },
      "source": [
        "columns_titles = [\"id\",\"risk_flag\"]\n",
        "\n",
        "mydf_reorder=mydf.reindex(columns=columns_titles)\n",
        "mydf_reorder"
      ],
      "execution_count": null,
      "outputs": [
        {
          "output_type": "execute_result",
          "data": {
            "text/html": [
              "<div>\n",
              "<style scoped>\n",
              "    .dataframe tbody tr th:only-of-type {\n",
              "        vertical-align: middle;\n",
              "    }\n",
              "\n",
              "    .dataframe tbody tr th {\n",
              "        vertical-align: top;\n",
              "    }\n",
              "\n",
              "    .dataframe thead th {\n",
              "        text-align: right;\n",
              "    }\n",
              "</style>\n",
              "<table border=\"1\" class=\"dataframe\">\n",
              "  <thead>\n",
              "    <tr style=\"text-align: right;\">\n",
              "      <th></th>\n",
              "      <th>id</th>\n",
              "      <th>risk_flag</th>\n",
              "    </tr>\n",
              "  </thead>\n",
              "  <tbody>\n",
              "    <tr>\n",
              "      <th>0</th>\n",
              "      <td>1</td>\n",
              "      <td>0</td>\n",
              "    </tr>\n",
              "    <tr>\n",
              "      <th>1</th>\n",
              "      <td>2</td>\n",
              "      <td>0</td>\n",
              "    </tr>\n",
              "    <tr>\n",
              "      <th>2</th>\n",
              "      <td>3</td>\n",
              "      <td>0</td>\n",
              "    </tr>\n",
              "    <tr>\n",
              "      <th>3</th>\n",
              "      <td>4</td>\n",
              "      <td>0</td>\n",
              "    </tr>\n",
              "    <tr>\n",
              "      <th>4</th>\n",
              "      <td>5</td>\n",
              "      <td>0</td>\n",
              "    </tr>\n",
              "    <tr>\n",
              "      <th>...</th>\n",
              "      <td>...</td>\n",
              "      <td>...</td>\n",
              "    </tr>\n",
              "    <tr>\n",
              "      <th>27995</th>\n",
              "      <td>27996</td>\n",
              "      <td>0</td>\n",
              "    </tr>\n",
              "    <tr>\n",
              "      <th>27996</th>\n",
              "      <td>27997</td>\n",
              "      <td>0</td>\n",
              "    </tr>\n",
              "    <tr>\n",
              "      <th>27997</th>\n",
              "      <td>27998</td>\n",
              "      <td>0</td>\n",
              "    </tr>\n",
              "    <tr>\n",
              "      <th>27998</th>\n",
              "      <td>27999</td>\n",
              "      <td>0</td>\n",
              "    </tr>\n",
              "    <tr>\n",
              "      <th>27999</th>\n",
              "      <td>28000</td>\n",
              "      <td>0</td>\n",
              "    </tr>\n",
              "  </tbody>\n",
              "</table>\n",
              "<p>28000 rows × 2 columns</p>\n",
              "</div>"
            ],
            "text/plain": [
              "          id  risk_flag\n",
              "0          1          0\n",
              "1          2          0\n",
              "2          3          0\n",
              "3          4          0\n",
              "4          5          0\n",
              "...      ...        ...\n",
              "27995  27996          0\n",
              "27996  27997          0\n",
              "27997  27998          0\n",
              "27998  27999          0\n",
              "27999  28000          0\n",
              "\n",
              "[28000 rows x 2 columns]"
            ]
          },
          "metadata": {
            "tags": []
          },
          "execution_count": 62
        }
      ]
    },
    {
      "cell_type": "code",
      "metadata": {
        "id": "THZku3_fOTXK",
        "colab": {
          "base_uri": "https://localhost:8080/"
        },
        "outputId": "3c8a343d-d95e-4b43-f5d2-b1a3d15312c2"
      },
      "source": [
        "print(mydf_reorder['risk_flag'].value_counts())"
      ],
      "execution_count": null,
      "outputs": [
        {
          "output_type": "stream",
          "text": [
            "0    24890\n",
            "1     3110\n",
            "Name: risk_flag, dtype: int64\n"
          ],
          "name": "stdout"
        }
      ]
    },
    {
      "cell_type": "code",
      "metadata": {
        "id": "gnan4hGT_SKE"
      },
      "source": [
        "mydf_reorder.to_csv('/content/drive/MyDrive/Colab Notebooks/my_subr.csv', index = False)"
      ],
      "execution_count": null,
      "outputs": []
    }
  ]
}